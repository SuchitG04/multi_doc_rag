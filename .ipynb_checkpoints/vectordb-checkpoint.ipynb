{
 "cells": [
  {
   "cell_type": "code",
   "execution_count": 2,
   "metadata": {},
   "outputs": [],
   "source": [
    "import unstructured\n",
    "from pydantic import BaseModel\n",
    "from typing import Any\n",
    "import pickle\n",
    "\n",
    "import uuid\n",
    "from langchain.retrievers import BM25Retriever, EnsembleRetriever\n",
    "from langchain_community.vectorstores import Chroma\n",
    "from langchain_core.documents import Document\n",
    "from langchain_core.prompts import ChatPromptTemplate\n",
    "from langchain_openai import OpenAIEmbeddings, ChatOpenAI\n",
    "from langchain_core.runnables import RunnablePassthrough\n",
    "from langchain_core.output_parsers import StrOutputParser"
   ]
  },
  {
   "cell_type": "code",
   "execution_count": 4,
   "metadata": {},
   "outputs": [],
   "source": [
    "model = ChatOpenAI(temperature=0.2, model=\"gpt-3.5-turbo-1106\")"
   ]
  },
  {
   "cell_type": "code",
   "execution_count": 3,
   "metadata": {},
   "outputs": [],
   "source": [
    "pdfs = [\"AMD.10K.2023.pdf\", \"BABA.10K.2023.pdf\", \"IBM.10K.2023.pdf\", \"UBER.10K.2023.pdf\", \"AAPL.10K.2023.pdf\"]"
   ]
  },
  {
   "cell_type": "code",
   "execution_count": 4,
   "metadata": {},
   "outputs": [],
   "source": [
    "pkls = [\"./AMD.10K.2023.pdf-0.pkl\", \"./BABA.10K.2023.pdf-1.pkl\", \"./IBM.10K.2023.pdf-2.pkl\", \"./UBER.10K.2023.pdf-3.pkl\", \"AAPL.10K.2023.pdf-4.pkl\"]\n",
    "raw_pdf_elements = []\n",
    "for pkl in pkls:\n",
    "  with open(f\"{pkl}\", 'rb') as f:\n",
    "    raw_pdf_elements.append(pickle.load(f))"
   ]
  },
  {
   "cell_type": "code",
   "execution_count": 5,
   "metadata": {},
   "outputs": [],
   "source": [
    "class Element(BaseModel):\n",
    "    type: str\n",
    "    text: Any\n",
    "\n",
    "\n",
    "# Categorize by type\n",
    "# categorized_elements = [[], [], [], [], []]\n",
    "# for raw_pdf_element,categorized_element in zip(raw_pdf_elements,categorized_elements):\n",
    "#     for element in raw_pdf_element:\n",
    "#         if \"unstructured.documents.elements.Table\" in str(type(element)):\n",
    "#             categorized_element.append(Element(type=\"table\", text=str(element.metadata.text_as_html)))\n",
    "#         elif \"unstructured.documents.elements.CompositeElement\" in str(type(element)):\n",
    "#             categorized_element.append(Element(type=\"text\", text=str(element)))\n",
    "\n",
    "categorized_elements = [\n",
    "    [Element(type=\"table\", text=str(element.metadata.text_as_html))\n",
    "     if isinstance(element, unstructured.documents.elements.Table)\n",
    "     else Element(type=\"text\", text=str(element))\n",
    "     for element in raw_pdf_element]\n",
    "    for raw_pdf_element in raw_pdf_elements\n",
    "]\n"
   ]
  },
  {
   "cell_type": "code",
   "execution_count": 6,
   "metadata": {},
   "outputs": [
    {
     "data": {
      "text/plain": [
       "Element(type='table', text='<table><tr><td>Wan Ling Martello</td><td></td><td></td></tr><tr><td>/s/ H.E. Yasir Al-Rumayyan</td><td>Director</td><td>Fe bruary 2 , 20:</td></tr><tr><td colspan=\"3\">H.E. Yasir Al-Rumayyan</td></tr><tr><td>/s/ John Thain</td><td>Director</td><td>Fe bruary 2 , 20:</td></tr><tr><td colspan=\"3\">John Thain</td></tr><tr><td>/s/ David Trujillo</td><td>Director</td><td>Fe bruary 2 , 20:</td></tr><tr><td colspan=\"3\">David Trujillo</td></tr><tr><td>/s/ Alexander Wynaendts</td><td>Director</td><td>Fe bruary 2 , 20:</td></tr></table>')"
      ]
     },
     "execution_count": 6,
     "metadata": {},
     "output_type": "execute_result"
    }
   ],
   "source": [
    "categorized_elements[3][-4]"
   ]
  },
  {
   "cell_type": "code",
   "execution_count": 7,
   "metadata": {},
   "outputs": [],
   "source": [
    "# Tables\n",
    "# table_elements = [[], [], [], [], []]\n",
    "# for table_element,categorized_element in zip(table_elements,categorized_elements):\n",
    "#   for e in categorized_element:\n",
    "#     if e.type==\"table\":\n",
    "#       table_element.append(e)\n",
    "  # print(len(table_element))\n",
    "table_elements = [ [e for e in categorized_element if e.type == \"table\"] for categorized_element in categorized_elements ]\n",
    "\n",
    "# Text\n",
    "# text_elements = [[], [], [], [], []]\n",
    "# for text_element,categorized_element in zip(text_elements,categorized_elements):\n",
    "#   for e in categorized_element:\n",
    "#     if e.type==\"text\":\n",
    "#       text_element.append(e)\n",
    "#   print(len(text_element))\n",
    "text_elements = [ [e for e in categorized_element if e.type == \"text\"] for categorized_element in categorized_elements ]\n"
   ]
  },
  {
   "cell_type": "code",
   "execution_count": 10,
   "metadata": {},
   "outputs": [
    {
     "data": {
      "text/plain": [
       "3"
      ]
     },
     "execution_count": 10,
     "metadata": {},
     "output_type": "execute_result"
    }
   ],
   "source": [
    "count = 0\n",
    "for ele in text_elements[0]:\n",
    "  if 'None' in ele.text:\n",
    "    count += 1\n",
    "\n",
    "count"
   ]
  },
  {
   "cell_type": "code",
   "execution_count": 11,
   "metadata": {},
   "outputs": [],
   "source": [
    "summarize_prompt_text = \"\"\"You are an assistant tasked with summarizing tables.\n",
    "Give a concise summary of the table. Table chunk: {table_element}\"\"\"\n",
    "summarize_prompt = ChatPromptTemplate.from_template(summarize_prompt_text)\n",
    "\n",
    "summarize_chain = {\"table_element\": RunnablePassthrough()} | summarize_prompt | model | StrOutputParser()"
   ]
  },
  {
   "cell_type": "code",
   "execution_count": 50,
   "metadata": {},
   "outputs": [],
   "source": [
    "test_table = table_elements[0][1].text\n",
    "test_resp = summarize_chain.invoke(test_table)"
   ]
  },
  {
   "cell_type": "code",
   "execution_count": 51,
   "metadata": {},
   "outputs": [
    {
     "data": {
      "text/plain": [
       "'The table shows the repurchases of shares during each fiscal quarter of 2022, along with the total number of shares repurchased and the average price paid per share. It also includes the total number of shares repurchased as part of the publicly announced program and the maximum dollar value of shares that may yet be purchased under the program. The last fiscal quarter of 2022 is also included in the table.'"
      ]
     },
     "execution_count": 51,
     "metadata": {},
     "output_type": "execute_result"
    }
   ],
   "source": [
    "test_resp"
   ]
  },
  {
   "cell_type": "code",
   "execution_count": 8,
   "metadata": {},
   "outputs": [],
   "source": [
    "tables_html = [ [t.text for t in table_element] for table_element in table_elements ]"
   ]
  },
  {
   "cell_type": "code",
   "execution_count": 13,
   "metadata": {},
   "outputs": [],
   "source": [
    "# DO NOT RUN THIS CELL. YOU HAVE PICKLED HERE\n",
    "# table_summaries = [ [summarize_chain.invoke(table_html) for table_html in table] for table in tables ]\n",
    "# with open(\"table_summaries.pkl\", 'wb') as f:\n",
    "#   pickle.dump(table_summaries, f)"
   ]
  },
  {
   "cell_type": "code",
   "execution_count": 9,
   "metadata": {},
   "outputs": [],
   "source": [
    "with open(\"./table_summaries.pkl\", 'rb') as f:\n",
    "  table_summaries = pickle.load(f)"
   ]
  },
  {
   "cell_type": "code",
   "execution_count": 11,
   "metadata": {},
   "outputs": [
    {
     "data": {
      "text/plain": [
       "5"
      ]
     },
     "execution_count": 11,
     "metadata": {},
     "output_type": "execute_result"
    }
   ],
   "source": [
    "len(table_summaries)"
   ]
  },
  {
   "cell_type": "code",
   "execution_count": 10,
   "metadata": {},
   "outputs": [
    {
     "name": "stdout",
     "output_type": "stream",
     "text": [
      "<table><tr><td>Business</td></tr><tr><td>Risk Factors</td></tr><tr><td>Unresolved Staff Comments</td></tr><tr><td>Properties</td></tr><tr><td>Legal Proceedings</td></tr><tr><td>Mine Safety Disclosures</td></tr><tr><td>Market for Registrant's Common Equity, Related Stockholder Matters and Issuer Purchases of Equity. Securities</td></tr><tr><td>Reserved]</td></tr><tr><td>Management's Discussion and Analysis of Financial Condition and Results of Operations</td></tr><tr><td>Quantitative and Qualitative Disclosure About Market Risk</td></tr><tr><td>Financial Statements and Supplementary Data</td></tr><tr><td>Changes in and Disagreements with Accountants on Accounting_and Financial Disclosure</td></tr><tr><td>Controls and Procedures</td></tr><tr><td>Other Information</td></tr><tr><td>Disclosures Regarding Foreign Jurisdictions that Prevent Inspections</td></tr><tr><td>Directors, Executive Officers and Governance</td></tr><tr><td>Corporate Executive Compensation</td></tr><tr><td>Security Ownership of Certain Beneficial Owners and Management and Related Stockholder Matters</td></tr><tr><td>Certain Relationships and Related Transactions and Director Independence</td></tr><tr><td>Principal Accounting Fees and Services</td></tr><tr><td>Exhibits, Financial Statements Schedules</td></tr><tr><td>Form 10-K Summary,</td></tr></table>\n",
      "Summary:\n",
      "The table lists various sections of a company's annual report, including business, risk factors, unresolved staff comments, properties, legal proceedings, mine safety disclosures, market for common equity, management's discussion and analysis, market risk disclosure, financial statements, changes in accountants, controls and procedures, disclosures regarding foreign jurisdictions, directors and governance, executive compensation, security ownership, related transactions, accounting fees, and exhibits.\n"
     ]
    }
   ],
   "source": [
    "print('\\nSummary:\\n'.join([tables_html[0][0],table_summaries[0][0]]))"
   ]
  },
  {
   "cell_type": "code",
   "execution_count": 16,
   "metadata": {},
   "outputs": [],
   "source": [
    "table_summary_p_html = [ ['\\nSummary:\\n'.join([table,table_text]) for table,table_text in zip(table_html,table_summary)] for table_html,table_summary in zip(tables_html,table_summaries) ] "
   ]
  },
  {
   "cell_type": "code",
   "execution_count": 14,
   "metadata": {},
   "outputs": [],
   "source": [
    "text_elements = [ [ text.text for text in text_element ] for text_element in text_elements ]"
   ]
  },
  {
   "cell_type": "code",
   "execution_count": 17,
   "metadata": {},
   "outputs": [],
   "source": [
    "pdf_wise_text = [text+table for text,table in zip(text_elements,table_summary_p_html)]"
   ]
  },
  {
   "cell_type": "code",
   "execution_count": 19,
   "metadata": {},
   "outputs": [
    {
     "name": "stdout",
     "output_type": "stream",
     "text": [
      "412\n",
      "1187\n",
      "90\n",
      "692\n",
      "279\n"
     ]
    }
   ],
   "source": [
    "for p in pdf_wise_text:\n",
    "  print(len(p))"
   ]
  },
  {
   "cell_type": "code",
   "execution_count": 20,
   "metadata": {},
   "outputs": [],
   "source": [
    "from itertools import chain\n",
    "def get_docs(raw_pdfs):\n",
    "  pdf_docs = []\n",
    "  pdf_docs.extend(\n",
    "    [Document(page_content=text, metadata={\"pdf_title\":raw_pdf[1]}) for text in raw_pdf[0]] for i,raw_pdf in enumerate(zip(raw_pdfs,pdfs))\n",
    "  )\n",
    "  pdf_docs = list(chain(*pdf_docs))\n",
    "  return pdf_docs"
   ]
  },
  {
   "cell_type": "code",
   "execution_count": 22,
   "metadata": {},
   "outputs": [
    {
     "data": {
      "text/plain": [
       "2660"
      ]
     },
     "execution_count": 22,
     "metadata": {},
     "output_type": "execute_result"
    }
   ],
   "source": [
    "len(get_docs(pdf_wise_text))"
   ]
  },
  {
   "cell_type": "code",
   "execution_count": 31,
   "metadata": {},
   "outputs": [
    {
     "name": "stdout",
     "output_type": "stream",
     "text": [
      "The statements in this report include forward-looking statements within the meaning of the Private Securities Litigation Reform Act of 1995. These forward- looking statements are based on current expectations and beliefs and involve numerous risks and uncertainties that could cause actual results to differ materially from expectations. These forward-looking statements speak only as of the date hereof or as of the dates indicated in the statements and should not be relied upon as predictions of future events, as we cannot assure you that the events or circumstances reflected in these statements will be achieved or will occur. You can identify forward-looking statements by the use of forward-looking terminology including “believes,” “expects,” “may,” “will,” “should,” “seeks,” “intends,” “plans,” “pro forma,” “estimates,” “anticipates,” or the negative of these words and phrases, other variations of these words and phrases or comparable terminology. The forward-looking statements relate to, among other things: possible impact of future accounting rules on AMD’s consolidated financial statements; demand for AMD’s products; the growth, change and competitive landscape of the markets in which AMD participates; international sales will continue to be a significant portion of total sales in the foreseeable future; that AMD’s cash, cash equivalents and short-term investment balances together with the availability under that certain revolving credit facility (the Revolving Credit Agreement) made available to AMD and certain of its subsidiaries, our commercial paper program, and our cash flows from operations will be sufficient to fund AMD’s operations including capital expenditures and purchase commitments over the next 12 months and beyond; AMD’s ability to obtain sufficient ex\n"
     ]
    }
   ],
   "source": [
    "print(text_elements[0][5])"
   ]
  },
  {
   "cell_type": "code",
   "execution_count": 37,
   "metadata": {},
   "outputs": [],
   "source": [
    "all_pdf_docs = get_docs(text_elements)\n",
    "all_pdf_tables = get_docs(tables_html)"
   ]
  },
  {
   "cell_type": "code",
   "execution_count": 43,
   "metadata": {},
   "outputs": [
    {
     "data": {
      "text/plain": [
       "({'pdf_title': 'AAPL.10K.2023.pdf'}, {'pdf_title': 'AAPL.10K.2023.pdf'})"
      ]
     },
     "execution_count": 43,
     "metadata": {},
     "output_type": "execute_result"
    }
   ],
   "source": [
    "all_pdf_docs[-1].metadata, all_pdf_tables[-1].metadata"
   ]
  },
  {
   "cell_type": "code",
   "execution_count": 23,
   "metadata": {},
   "outputs": [],
   "source": [
    "test_docs = []\n",
    "for apc in all_pdf_docs:\n",
    "  if apc.metadata['pdf_title']=='AAPL.10K.2023.pdf':\n",
    "    test_docs.append(apc)\n",
    "len(test_docs)\n",
    "bm = BM25Retriever.from_documents(all_pdf_docs, k=2)"
   ]
  },
  {
   "cell_type": "code",
   "execution_count": 44,
   "metadata": {},
   "outputs": [
    {
     "data": {
      "text/plain": [
       "list"
      ]
     },
     "execution_count": 44,
     "metadata": {},
     "output_type": "execute_result"
    }
   ],
   "source": [
    "type([all_pdf_doc for all_pdf_doc in all_pdf_docs if \"AMD\" in all_pdf_doc.metadata['pdf_title']])"
   ]
  },
  {
   "cell_type": "code",
   "execution_count": 24,
   "metadata": {},
   "outputs": [
    {
     "data": {
      "text/plain": [
       "[Document(page_content='domiciled and operate in countries with particular economic, tax, political, legal, safety, regulatory and public health risks, including the extent of the impact of the COVID-19 pandemic on their business; are domiciled or operate in countries that may become subject to economic sanctions or foreign investment restrictions; depend on the management talents and efforts of a small group of individuals, and, as a result, the death, disability, resignation, or termination of one or more of these individuals could have an adverse effect on the relevant company’s operations; and will likely require substantial additional capital to support their operations and expansion and to maintain their competitive positions. For example, in light of the conflict between Russia and Ukraine, members of our management team resigned from the board of our Yandex.Taxi joint venture, and we announced that we are actively looking for opportunities to accelerate the sale of our remaining holdings in the joint venture. The broader consequences of this conflict, which may include additional international sanctions, embargoes, regional instability, and geopolitical shifts, increased tensions between the United States and countries in which we operate, and the extent of the conflict’s effect on the global economy, cannot be predicted. Any of these risks could materially affect the value of our assets, which could have an adverse effect on our business, financial condition, operating results, or the trading price of our common stock.', metadata={'doc_id': 'd0ddbccc-b7e8-4a9e-b09a-22d0b90edf2e', 'pdf_title': 'UBER.10K.2023.pdf'}),\n",
       " Document(page_content='Our brand and reputation might also be harmed by events outside of our control. For example, we have licensed our brand in connection with certain divestitures and joint ventures, including to Didi in China and to our Yandex.Taxi joint venture in Russia/CIS, and while we have certain contractual protections in place governing the use of our brand by these companies, we do not control these businesses, we are not able to anticipate their actions, and consumers may not be aware that these service providers are not controlled by us. Additionally, in light of the conflict between Russia and Ukraine, we announced that we are actively looking for opportunities to accelerate the sale of our remaining holdings in our Yandex.Taxi joint venture. Furthermore, if Drivers, merchants, or Carriers provide diminished quality of service, are involved in incidents regarding safety or privacy, engage in malfeasance, or otherwise violate the law, we may receive unfavorable press coverage and our reputation and business may be harmed. As a result, any of these third parties could take actions that result in harm to our brand, reputation, and consequently, our business.', metadata={'doc_id': 'd0ddbccc-b7e8-4a9e-b09a-22d0b90edf2e', 'pdf_title': 'UBER.10K.2023.pdf'})]"
      ]
     },
     "execution_count": 24,
     "metadata": {},
     "output_type": "execute_result"
    }
   ],
   "source": [
    "bm.invoke(\"financial holdings\")"
   ]
  },
  {
   "cell_type": "code",
   "execution_count": 25,
   "metadata": {},
   "outputs": [
    {
     "name": "stderr",
     "output_type": "stream",
     "text": [
      "Warning: model not found. Using cl100k_base encoding.\n"
     ]
    },
    {
     "data": {
      "application/vnd.jupyter.widget-view+json": {
       "model_id": "e0e3dac0bead43bf9a8bd59e8b47c6ce",
       "version_major": 2,
       "version_minor": 0
      },
      "text/plain": [
       "  0%|          | 0/3 [00:00<?, ?it/s]"
      ]
     },
     "metadata": {},
     "output_type": "display_data"
    }
   ],
   "source": [
    "test_vec = Chroma.from_documents(documents=all_pdf_docs, embedding=OpenAIEmbeddings(model=\"text-embedding-3-small\", show_progress_bar=True))"
   ]
  },
  {
   "cell_type": "code",
   "execution_count": 26,
   "metadata": {},
   "outputs": [],
   "source": [
    "test_vec_retr = test_vec.as_retriever(search_kwargs={\"k\":3})"
   ]
  },
  {
   "cell_type": "code",
   "execution_count": 38,
   "metadata": {},
   "outputs": [
    {
     "name": "stderr",
     "output_type": "stream",
     "text": [
      "Warning: model not found. Using cl100k_base encoding.\n"
     ]
    },
    {
     "data": {
      "application/vnd.jupyter.widget-view+json": {
       "model_id": "1333c1f1167a4b709c2f9f2d1e172ed6",
       "version_major": 2,
       "version_minor": 0
      },
      "text/plain": [
       "  0%|          | 0/1 [00:00<?, ?it/s]"
      ]
     },
     "metadata": {},
     "output_type": "display_data"
    },
    {
     "data": {
      "text/plain": [
       "[Document(page_content='The Company’s products and services may be affected from time to time by design and manufacturing defects that could materially adversely affect the Company’s business and result in harm to the Company’s reputation.', metadata={'doc_id': '6d7636eb-ab12-4578-9eca-ad202f9b9f50', 'pdf_title': 'AAPL.10K.2023.pdf'}),\n",
       " Document(page_content='rsely affect the Company’s business. Political uncertainty surrounding trade and other international disputes could also have a negative effect on consumer confidence and spending, which could adversely affect the Company’s business.', metadata={'doc_id': '6d7636eb-ab12-4578-9eca-ad202f9b9f50', 'pdf_title': 'AAPL.10K.2023.pdf'}),\n",
       " Document(page_content='The Company’s retail stores are subject to numerous risks and uncertainties.\\n\\nThe Company’s retail operations are subject to many factors that pose risks and uncertainties and could adversely impact the Company’s business, results of operations and financial condition, including macroeconomic factors that could have an adverse effect on general retail activity. Other factors include the Company’s ability to: manage costs associated with retail store construction and operation; manage relationships with existing retail partners; manage costs associated with fluctuations in the value of retail inventory; and obtain and renew leases in quality retail locations at a reasonable cost.', metadata={'doc_id': '6d7636eb-ab12-4578-9eca-ad202f9b9f50', 'pdf_title': 'AAPL.10K.2023.pdf'}),\n",
       " Document(page_content='s and financial condition.', metadata={'doc_id': '6d7636eb-ab12-4578-9eca-ad202f9b9f50', 'pdf_title': 'AAPL.10K.2023.pdf'})]"
      ]
     },
     "execution_count": 38,
     "metadata": {},
     "output_type": "execute_result"
    }
   ],
   "source": [
    "test_vec.as_retriever(search_type=\"mmr\", search_kwargs={\"filter\":{\"pdf_title\":\"AAPL.10K.2023.pdf\"}}).invoke(\"factors affecting brand and reputation\")"
   ]
  },
  {
   "cell_type": "code",
   "execution_count": 30,
   "metadata": {},
   "outputs": [],
   "source": [
    "ens = EnsembleRetriever(\n",
    "  retrievers=[bm, test_vec_retr], weights=[0.5, 0.5]\n",
    ")"
   ]
  },
  {
   "cell_type": "code",
   "execution_count": 31,
   "metadata": {},
   "outputs": [
    {
     "name": "stderr",
     "output_type": "stream",
     "text": [
      "Warning: model not found. Using cl100k_base encoding.\n"
     ]
    },
    {
     "data": {
      "application/vnd.jupyter.widget-view+json": {
       "model_id": "9971fcbb56e44560a299d1f902edc46d",
       "version_major": 2,
       "version_minor": 0
      },
      "text/plain": [
       "  0%|          | 0/1 [00:00<?, ?it/s]"
      ]
     },
     "metadata": {},
     "output_type": "display_data"
    },
    {
     "data": {
      "text/plain": [
       "[Document(page_content='Note:\\n\\n16\\n\\n17', metadata={'doc_id': '1a3245eb-c8b7-462a-8075-e4d334959ce3', 'pdf_title': 'BABA.10K.2023.pdf'}),\n",
       " Document(page_content='Goodwill Impairment Assessment\\n\\nWe review goodwill for impairment annually (in the fourth quarter) and whenever events or changes in circumstances indicate that goodwill might be impaired. We make certain judgments and assumptions to determine our reporting units and in allocating shared assets and liabilities to determine the carrying values for each of our reporting units. Determination of reporting units is based on a judgmental evaluation of the level at which our segment managers review financial results, evaluate performance, and allocate resources.\\n\\nJudgment in the assessment of qualitative factors of impairment include, among other factors: financial performance; legal, regulatory, contractual, political, business, and other factors; entity specific factors; industry and market considerations, macroeconomic conditions, and other relevant events and factors affecting the reporting unit. To the extent we determine that it is more likely than not that the fair value of the reporting unit is less than its carrying value, a quantitative test is then performed.\\n\\nPerforming a quantitative goodwill impairment test includes the determination of the fair value of a reporting unit and involves significant estimates and assumptions. These estimates and assumptions include, among others, revenue growth rates and operating margins used to calculate projected future cash flows, risk-adjusted discount rates, future economic and market conditions, and the determination of appropriate market comparables.', metadata={'doc_id': 'd0ddbccc-b7e8-4a9e-b09a-22d0b90edf2e', 'pdf_title': 'UBER.10K.2023.pdf'}),\n",
       " Document(page_content='71\\n\\nTable of Contents\\n\\nGoodwill\\n\\nIn the second quarter of fiscal year 2022, the Company reassigned goodwill balances among the updated reportable segments to reflect changes in its segment reporting structure. The Company performed a goodwill impairment test immediately prior to and after the segment change and determined that no indicators of impairment to goodwill existed.\\n\\nThe carrying amount of goodwill as of December 31, 2022 and December 25, 2021 was $24.2 billion and $289 million, respectively, and was assigned to reporting units within the following reportable segments:', metadata={'doc_id': '5a6f5eb5-03da-4d7e-9e19-e43ecf4f42e3', 'pdf_title': 'AMD.10K.2023.pdf'}),\n",
       " Document(page_content='PART II', metadata={'doc_id': 'd0ddbccc-b7e8-4a9e-b09a-22d0b90edf2e', 'pdf_title': 'UBER.10K.2023.pdf'}),\n",
       " Document(page_content='tes of that reporting unit.', metadata={'doc_id': '5a6f5eb5-03da-4d7e-9e19-e43ecf4f42e3', 'pdf_title': 'AMD.10K.2023.pdf'})]"
      ]
     },
     "execution_count": 31,
     "metadata": {},
     "output_type": "execute_result"
    }
   ],
   "source": [
    "ens.invoke(\"test\")"
   ]
  },
  {
   "cell_type": "code",
   "execution_count": 44,
   "metadata": {},
   "outputs": [],
   "source": [
    "# PICKLING\n",
    "with open('all_pdf_docs.pkl', 'wb') as f:\n",
    "  pickle.dump(all_pdf_docs, f)\n",
    "\n",
    "with open('all_pdf_tables.pkl', 'wb') as f:\n",
    "  pickle.dump(all_pdf_tables, f)"
   ]
  },
  {
   "cell_type": "code",
   "execution_count": 48,
   "metadata": {},
   "outputs": [
    {
     "data": {
      "text/plain": [
       "626"
      ]
     },
     "execution_count": 48,
     "metadata": {},
     "output_type": "execute_result"
    }
   ],
   "source": [
    "len(text_elements[0]) + len(text_elements[4]) + len(text_elements[2])"
   ]
  },
  {
   "cell_type": "code",
   "execution_count": null,
   "metadata": {},
   "outputs": [],
   "source": []
  }
 ],
 "metadata": {
  "kernelspec": {
   "display_name": "venv",
   "language": "python",
   "name": "python3"
  },
  "language_info": {
   "codemirror_mode": {
    "name": "ipython",
    "version": 3
   },
   "file_extension": ".py",
   "mimetype": "text/x-python",
   "name": "python",
   "nbconvert_exporter": "python",
   "pygments_lexer": "ipython3",
   "version": "3.11.6"
  }
 },
 "nbformat": 4,
 "nbformat_minor": 2
}

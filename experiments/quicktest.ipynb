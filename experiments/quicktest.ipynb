{
 "cells": [
  {
   "cell_type": "code",
   "execution_count": 1,
   "metadata": {},
   "outputs": [],
   "source": [
    "from unstructured.partition.pdf import partition_pdf\n",
    "from pydantic import BaseModel\n",
    "from typing import Any\n",
    "import pickle\n",
    "\n",
    "import uuid\n",
    "from langchain.retrievers.multi_vector import MultiVectorRetriever\n",
    "from langchain.storage import InMemoryStore\n",
    "from langchain_community.vectorstores import FAISS\n",
    "from langchain_core.documents import Document\n",
    "from langchain_core.prompts import ChatPromptTemplate\n",
    "from langchain_openai import OpenAIEmbeddings, ChatOpenAI\n",
    "from langchain_core.runnables import RunnablePassthrough\n",
    "from langchain_core.output_parsers import StrOutputParser"
   ]
  },
  {
   "cell_type": "code",
   "execution_count": 2,
   "metadata": {},
   "outputs": [],
   "source": [
    "pkls = [\"./AMD.10K.2023.pdf-0.pkl\", \"./BABA.10K.2023.pdf-1.pkl\", \"./IBM.10K.2023.pdf-2.pkl\", \"./UBER.10K.2023.pdf-3.pkl\", \"AAPL.10K.2023.pdf-4.pkl\"]\n",
    "raw_pdf_elements = []\n",
    "for pkl in pkls:\n",
    "  with open(f\"{pkl}\", 'rb') as f:\n",
    "    raw_pdf_elements.append(pickle.load(f))"
   ]
  },
  {
   "cell_type": "code",
   "execution_count": 3,
   "metadata": {},
   "outputs": [],
   "source": [
    "class Element(BaseModel):\n",
    "    type: str\n",
    "    text: Any\n",
    "\n",
    "\n",
    "# Categorize by type\n",
    "categorized_elements = [[], [], [], [], []]\n",
    "for raw_pdf_element,categorized_element in zip(raw_pdf_elements,categorized_elements):\n",
    "    for element in raw_pdf_element:\n",
    "        if \"unstructured.documents.elements.Table\" in str(type(element)):\n",
    "            categorized_element.append(Element(type=\"table\", text=str(element.metadata.text_as_html)))\n",
    "        elif \"unstructured.documents.elements.CompositeElement\" in str(type(element)):\n",
    "            categorized_element.append(Element(type=\"text\", text=str(element)))\n"
   ]
  },
  {
   "cell_type": "code",
   "execution_count": 4,
   "metadata": {},
   "outputs": [],
   "source": [
    "# Tables\n",
    "# table_elements = [[], [], [], [], []]\n",
    "# for table_element,categorized_element in zip(table_elements,categorized_elements):\n",
    "#   for e in categorized_element:\n",
    "#     if e.type==\"table\":\n",
    "#       table_element.append(e)\n",
    "  # print(len(table_element))\n",
    "table_elements = [ [e for e in categorized_element if e.type == \"table\"] for categorized_element in categorized_elements ]\n",
    "\n",
    "# Text\n",
    "# text_elements = [[], [], [], [], []]\n",
    "# for text_element,categorized_element in zip(text_elements,categorized_elements):\n",
    "#   for e in categorized_element:\n",
    "#     if e.type==\"text\":\n",
    "#       text_element.append(e)\n",
    "#   print(len(text_element))\n",
    "text_elements = [ [e for e in categorized_element if e.type == \"text\"] for categorized_element in categorized_elements ]\n"
   ]
  },
  {
   "cell_type": "code",
   "execution_count": 14,
   "metadata": {},
   "outputs": [
    {
     "data": {
      "text/plain": [
       "'<table><thead><th rowspan=\"3\">Periods July 2, 2023 to August 5, 2023: Open market and privately negotiated purchases</th><th colspan=\"2\">Total Number of Shares Purchased</th><th colspan=\"2\">Average Price Paid Per Share</th><th colspan=\"2\" rowspan=\"3\">of Shares Purchased as Part of Publicly Announced Plans or Programs 33,864 Yet</th><th rowspan=\"3\">Approximate Dollar Value of Shares That May Be Purchased Under the Plans or Programs ()</th></thead><thead><th></th><th></th><th></th><th></th><th></th><th colspan=\"2\"></th><th></th></thead><thead><th></th><th>33,864</th><th></th><th>$</th><th>191.62</th><th colspan=\"2\"></th><th></th></thead><tr><td colspan=\"8\">August 6, 2023 to September 2, 2023:</td></tr><tr><td>August 2023 ASRs</td><td>22,085</td><td>@</td><td></td><td>@</td><td>22,085</td><td>@</td><td></td></tr><tr><td>Open market and privately negotiated purchases</td><td>30,299</td><td></td><td>$</td><td>178.99</td><td>30,299</td><td></td><td></td></tr><tr><td colspan=\"8\">September 3, 2023 to September 30, 2023:</td></tr><tr><td>Open market and privately negotiated purchases</td><td>20,347</td><td></td><td>$</td><td>176.31</td><td>20,347</td><td></td><td></td></tr><tr><td>Total</td><td></td><td></td><td></td><td></td><td></td><td></td><td></td></tr></table>'"
      ]
     },
     "execution_count": 14,
     "metadata": {},
     "output_type": "execute_result"
    }
   ],
   "source": [
    "table_elements[4][4].text"
   ]
  },
  {
   "cell_type": "code",
   "execution_count": 2,
   "metadata": {},
   "outputs": [],
   "source": [
    "import pickle\n",
    "with open(\"./table_summaries.pkl\", 'rb') as f:\n",
    "  testpkl = pickle.load(f)"
   ]
  },
  {
   "cell_type": "code",
   "execution_count": 4,
   "metadata": {
    "scrolled": true
   },
   "outputs": [
    {
     "data": {
      "text/plain": [
       "[\"The table lists various sections of a company's annual report, including business, risk factors, unresolved staff comments, properties, legal proceedings, mine safety disclosures, market for common equity, management's discussion and analysis, market risk disclosure, financial statements, changes in accountants, controls and procedures, disclosures regarding foreign jurisdictions, directors and governance, executive compensation, security ownership, related transactions, accounting fees, and exhibits.\",\n",
       " 'The table shows the repurchases of shares during each fiscal quarter of 2022, along with the total number of shares repurchased and the average price paid per share. It also includes the total number of shares repurchased as part of the publicly announced program and the maximum dollar value of shares that may yet be purchased under the program. The last fiscal quarter of 2022 is also included in the table.',\n",
       " 'The table shows the performance of Advanced Micro Devices, Inc., the S&P 500 Index, and the S&P 500 Semiconductors Index on the specified dates. The values represent the percentage change in the respective indices from 12/30/2017 to 12/31/2022. Advanced Micro Devices, Inc. has shown significant growth over the period, outperforming both the S&P 500 Index and the S&P 500 Semiconductors Index.',\n",
       " 'The table shows the net revenue and operating income (loss) for different segments of a company on December 31, 2022 and December 25, 2021. The net revenue for Data Center, Client, Gaming, and Embedded segments increased from 2021 to 2022, contributing to a total net revenue increase from 16,434 million to 23,601 million. The operating income (loss) for Data Center, Client, Gaming, and Embedded segments also changed, with the total operating income (loss) decreasing from 3,648 million to 1,264 million.',\n",
       " 'The table shows the net revenue and various expenses and income for a company. The net revenue is $23,601 million, with a gross profit of $10,603 million and a gross margin of 45%. The company incurred costs of sales of $11,550 million, research and development expenses of $5,005 million, and marketing, general and administrative expenses of $2,336 million. The company also had amortization of acquisition-related intangibles of $1,448 million and a licensing gain of $(102) million. Interest expense was $(88) million and other income, net was $8 million.',\n",
       " 'The table shows the net cash provided by (used in) operating, investing, and financing activities in millions of dollars. Operating activities provided $3,565 million, investing activities provided $1,999 million, and financing activities used $3,264 million. The net increase in cash and cash equivalents was $2,300 million.',\n",
       " 'The table shows notional amounts, average contract rates, and estimated fair value gains or losses for foreign currency forward contracts. The notional amounts range from 1 to 607, and the average contract rates range from 0.7317 to 133.7593. The estimated fair value gains or losses range from -16 to 9.',\n",
       " 'The table appears to contain a mix of numbers and symbols, making it difficult to provide a concise summary without additional context or information.',\n",
       " 'The table shows financial data for December 31, 2022, December 25, 2021, and December 26, 2020. It includes key figures such as net revenue, cost of sales, gross profit, research and development expenses, operating income, interest expense, and net income. The amounts are in millions of dollars.',\n",
       " 'The table shows earnings per share for a company, with basic and diluted earnings per share values for three different time periods. It also includes the number of shares used in the per share calculation for each time period.',\n",
       " 'The table shows comprehensive income (loss) for the company on December 31, 2022, December 25, 2021, and December 26, 2020, in millions of dollars. It also includes the change in unrealized gains (losses) on cash flow hedges for the same periods. The comprehensive income (loss) for each period is also provided.',\n",
       " \"The table shows the assets of a company, including current assets such as cash, short-term investments, accounts receivable, and inventories. It also includes non-current assets such as property and equipment, operating right-of-use, goodwill, and other non-current assets. The total assets amount to $67,580 million. The table also includes information on current liabilities and stockholders' equity.\",\n",
       " \"The table provides a breakdown of the company's liabilities and stockholders' equity. The current liabilities include payable, payables to related parties, accrued liabilities, current portion of long-term debt, other current liabilities, and total current liabilities. Long-term liabilities include long-term debt, long-term operating lease liabilities, deferred tax liabilities, and other long-term liabilities. Stockholders' equity includes capital stock, additional paid-in capital, treasury stock, accumulated deficit, and accumulated other comprehensive loss. The total liabilities and stockholders' equity amount to $54,750.\",\n",
       " 'The table contains three rows of data. The first row has two columns with the values 7,497 and $67,580. The second row has three columns with the values $12,419.',\n",
       " 'The table provides a summary of the capital stock, additional paid-in capital, and treasury stock for the years ending December 31, 2022, December 25, 2021, and December 26, 2020. It includes information on the beginning and end balances for each category, as well as details on common stock issuance, stock-based compensation, and repurchases of common stock.',\n",
       " \"The table shows various financial figures related to common stock repurchases, accumulated deficit, net income, and other comprehensive income (loss). It also displays the balance at the beginning and end of the period, as well as the total stockholders' equity. The numbers in the table represent thousands of dollars.\",\n",
       " 'The table shows the cash flows from operating activities in millions of dollars. It includes net income and adjustments to reconcile net income to net cash provided by operating activities, as well as changes in operating assets and liabilities. The adjustments include items such as depreciation and amortization, stock-based compensation, and amortization of debt discount and issuance costs. Changes in operating assets and liabilities include accounts receivable, inventories, and receivables from related parties.',\n",
       " 'The table shows the cash flows from operating, investing, and financing activities. It includes details such as prepaid expenses, payables to related parties, purchases of property and equipment, proceeds from maturity of short-term investments, and proceeds from debt. The net cash provided by operating activities was 3,565, cash used in investing activities was 1,999, and cash provided by financing activities was 846.',\n",
       " 'The table shows the purchases of common stock, common stock repurchases for tax withholding on employee equity plans, and other financing activities. It also shows the net increase in cash and cash equivalents, as well as the cash and cash equivalents at the beginning and end of the year. The net cash used in financing activities was (3,264) and (1,895) for the two periods shown. The net increase in cash and cash equivalents was 2,300 and 940, and the cash and cash equivalents at the end of the year were 4,835 and 2,535 for the two periods shown.',\n",
       " 'The table provides supplemental cash flow information for the years ending December 31, 2022, December 25, 2021, and December 26, 2020. It includes cash paid during the year for interest and income taxes, as well as non-cash investing and financing activities such as purchases of property and equipment, issuance of common stock, and fair value of replacement share-based awards related to an acquisition. Additionally, it outlines non-cash activities for leases, including operating lease right-of-use assets acquired by assuming related liabilities. All amounts are in millions of dollars.',\n",
       " 'The table shows the inventories of raw materials for December 31, 2022 and December 25, 2021. The inventories include work in process, finished goods, and total inventories. The values are in millions, with work in process totaling 2,648 million in 2022 and 1,676 million in 2021, finished goods totaling 892 million in 2022 and 197 million in 2021, and total inventories totaling 3,771 million in 2022 and 1,955 million in 2021.',\n",
       " 'The table shows the breakdown of property and equipment, with values in millions of dollars. It includes categories such as building and leasehold improvements, equipment, construction in progress, property and equipment gross, accumulated depreciation, and total property and equipment net. The values in the table are in millions of dollars.',\n",
       " 'The table shows prepaid long-term supply agreements in millions, with software and technology licenses, net totaling 362 and 323 million, and other total non-current assets totaling 538 and 239 million. The total prepaid long-term supply agreements amount to 1,252 and 916 million.',\n",
       " 'The table shows the accrued marketing programs, accrued compensation and benefits, customer program liabilities, and other accrued and current liabilities in millions of dollars. The total accrued liabilities are $3,077 and §2,424.',\n",
       " 'The table provides a summary of revenue and operating income for the company on December 31, 2022, December 25, 2021, and December 26, 2020. It shows the revenue and operating income for different segments, including Data Center, Client, Gaming, and Embedded, as well as the total net revenue and total operating income (loss) for each year. The revenue and operating income are presented in millions.',\n",
       " 'The table provides a summary of operating loss for the specified dates. It includes stock-based compensation expense, acquisition-related costs, amortization of acquisition-related intangibles, and licensing gain. The amounts are in millions. The operating loss for December 31, 2022, is $4,979 million, for December 25, 2021, it is $409 million, and for December 26, 2020, it is $288 million.',\n",
       " 'The table shows the total sales to external customers for the years 2020, 2021, and 2022. The sales are broken down by country, with the United States having the highest sales in 2022 at $8,049 million, followed by China (including Hong Kong) at $5,207 million. The total sales to external customers in 2022 amounted to $23,601 million, showing an increase from the previous year.',\n",
       " 'The table shows the percentage of sales for Customer A and Customer B on December 31, 2022, December 25, 2021, and December 26, 2020. Customer A had 16% sales on December 31, 2022, and 14% on December 25, 2021. Customer B had an unspecified percentage on December 31, 2022, and 1% on December 25, 2021. There is no data available for December 26, 2020.',\n",
       " 'The table shows the total property and equipment (in millions) for various countries. The United States has the highest total at 1,102, followed by Canada at 80, China at 42, Singapore at 132, India at 67, Ireland at 48, and other countries at 42. The total property and equipment, net, for all countries combined is 1,513.',\n",
       " \"The table provides a breakdown of the company's assets and liabilities, as well as the fair value of net assets acquired, goodwill, and total purchase consideration. The company has a total of $557 in fair value of net assets acquired, $1,098 in goodwill, and a total purchase consideration of $1,655.\",\n",
       " 'The table shows the breakdown of identified intangible assets, including developed technology, customer relationships, customer backlog, product trademarks, and in-process research and development. The values in millions and the years of amortization for each asset are also provided. The total identified intangible assets acquired amount to 349 million.',\n",
       " \"The table provides a breakdown of the company's assets and liabilities. The total assets amount to 33,341, with the largest components being acquisition-related intangibles and property and equipment. The total liabilities amount to 7,332, with the largest components being deferred tax liabilities and long-term debt. The fair value of net assets acquired is 26,009 and the goodwill is 22,784, making the total purchase consideration 48,793.\",\n",
       " 'The table shows the developed technology, the value in millions, and the number of years for each technology. The technologies listed include customer relationships, customer backlog, corporate trade name, product trademarks, identified intangible assets subject to amortization, and in-process research and development (IPR&D) not subject to amortization. The values range from 65 million to 26,338 million, and the number of years ranges from 1 year to 16 years.',\n",
       " 'The table shows net revenue and operating income in millions. Net revenue is $4,612 million and operating income is $2,247 million.',\n",
       " 'The table shows the revenue for a company in millions of dollars. The revenue for the first period is $24,117 million and for the second period is $20,150 million.',\n",
       " 'The table provides information on the weighted-average remaining useful life, gross carrying amount, accumulated amortization, and net carrying amount of various intangible assets. The assets include developed technology, customer relationships, customer backlog, corporate trade name, product trademarks, identified intangible assets subject to amortization, and IPR&D not subject to amortization. The total acquisition-related intangible assets amount to $24,118 million.',\n",
       " 'The table shows the number of cases for different categories. The categories are 023, 024, 025, 026, 027, 028 and thereafter, and total. The corresponding number of cases for each category are 2,804, 2,286, 2,061, 1,951, 1,844, 11,978, and 22,924, respectively.',\n",
       " 'The table shows financial data for different reportable segments before and after a segment change. It includes information on acquisitions and adjustments due to segment change for the period of December 25, 2021, and December 31, 2022. The data is presented in millions of dollars. The reportable segments before the change were \"Enterprise, Embedded and Semi-Custom\" and \"Xilinx,\" while the reportable segments after the change are \"Data Center,\" \"Gaming,\" and \"Embedded.\" The total amounts for each period are also provided.',\n",
       " \"The table shows the breakdown of Xilinx's long-term debt, including the principal amount and the current portion of long-term debt. The company has a total long-term debt of $2,467 million, with $313 million being the current portion of long-term debt. The table also includes details of various senior notes and their respective principal amounts.\",\n",
       " 'The table shows financial amounts for the years 2023 to 2028 and beyond. In 2023, there is no amount listed. In 2024, the amount is $750. In 2025, the amount is not specified. In 2026, the amount is 1. In 2027, the amount is not specified. For 2028 and beyond, there is no amount listed. The total amount is also not specified.',\n",
       " 'The table shows the Jash equivalents in millions for different types of short-term investments and other non-current assets. It includes the level 1 and level 2 breakdown for each type of investment, as well as the total level for each. The investments include money market funds, commercial paper, time deposits and certificates of deposits, asset-backed and mortgage-backed securities, U.S. Treasury and agency securities, and foreign government and agency securities.',\n",
       " 'The table shows the breakdown of total assets measured at fair value in different investment categories. Time deposits and certificates of deposits account for 9 units, equity investments account for 66 units, and deferred compensation plan investments account for 72 units. The total fair value of these assets is $1,260.',\n",
       " 'The table shows the cost/amortized cost, gross unrealized gains, gross unrealized losses, and estimated fair value (in millions) for various types of securities. The categories include asset-backed and mortgage-backed securities, commercial paper, money market funds, time deposits and certificates of deposits, U.S. Treasury and agency securities, and foreign government and agency securities. The total estimated fair value of all securities is $4,420 million.',\n",
       " 'The table shows the amortized cost and fair value of assets due within 1 year, due in 1 year through 5 years, and due in 5 years and later. The values are in millions, with the amortized cost fair value for assets due within 1 year being $1224 and the fair value being §1218. For assets due in 1 year through 5 years, the amortized cost is $159 and the fair value is §156. For assets due in 5 years and later, the amortized cost is $41 and the fair value is §38.',\n",
       " 'The table shows the current portion of long-term debt, net for Carryin, Amouni and Carryin, Amoun. The Fair and Estimated Value are also listed. The values are in millions. Carryin, Amouni has a current portion of long-term debt, net of 3 million and an estimated fair value of 326 million. Carryin, Amoun has a current portion of long-term debt, net of 312 million and no estimated fair value listed.',\n",
       " 'The table provides financial data for the company for the years ending December 31, 2022, December 25, 2021, and December 26, 2020. It includes information on net income for basic and diluted earnings per share, as well as the weighted-average shares for basic and diluted earnings per share. The table also shows the earnings per share for each year.',\n",
       " 'The table shows the balance of common stock for the company on December 31, 2022, December 25, 2021, and December 26, 2020. It includes the beginning and end of period balances, as well as common stock issued in the acquisition of Xilinx, issued under employee equity plans, repurchases of common stock, common stock repurchases for tax withholding on equity awards, and issuance of common stock to settle convertible debt. The balance of common stock increased from 1,207 million to 1,612 million from December 25, 2021, to December 31, 2022.',\n",
       " 'The table shows the cost of sales, research and development, marketing, general, and administrative expenses, total stock-based compensation expense before and after income taxes, and income tax benefit for the years ending December 31, 2022, December 25, 2021, and December 26, 2020. The values are in millions.',\n",
       " 'The table shows the expected volatility, risk-free interest rate, and expected dividends for three different scenarios. The expected volatility increases from 51.28% to 57.87%, while the risk-free interest rate decreases from 3.00% to 0.18%. The expected dividends are not provided for any scenario.',\n",
       " 'The table shows the outstanding number of shares, weighted-average exercise price, aggregate intrinsic value, and weighted-average remaining contractual life for stock options. As of December 25, 2021, there were 5 outstanding shares with a weighted-average exercise price of $23.98. 18 shares were granted with a weighted-average exercise price of $95.54. 2 shares were exercised with no exercise price provided. As of December 31, 2022, there were 48 outstanding shares with a weighted-average exercise price of $4235 and a weighted-average remaining contractual life of 3.11 years. Additionally, 3 shares were exercisable with a weighted-average exercise price of $2567 and a weighted-average remaining contractual life of 2.2 years.',\n",
       " 'The table provides information on the number of shares, weighted-average grant fair value, and other related details for unvested and vested shares as of December 25, 2021, and December 31, 2022. It also includes data on shares assumed with the acquisition of Xilinx, granted shares, and forfeited shares. The table also shows the weighted-average remaining contractual life in years for vested shares as of December 31, 2022.',\n",
       " 'The table shows the expected volatility, risk-free interest rate, expected dividends, and expected term in years for different scenarios. The expected volatility ranges from 50.65% to 53.51%, 57.75%, and 55.74% to 60.10%. The risk-free interest rate ranges from 1.14% to 3.17%, 0.43%, and 0.14% to 1.41%. The expected dividends are not provided. The expected term ranges from 2.07 to 3.07 years, 3.00 years, and 2.48 to 3.00 years.',\n",
       " 'The table provides information on the number of shares, grant, weighted-average date fair value, aggregate intrinsic value, and weighted-average remaining contractual life for unvested shares as of December 25, 2021, granted shares, forfeited shares, vested shares, and unvested shares as of December 31, 2022. The table also includes the value of forfeited shares and the aggregate intrinsic value for unvested shares as of December 31, 2022.',\n",
       " 'The table shows the expected volatility, risk-free interest rate, and expected dividends for different scenarios. The expected volatility ranges from 58.15% to 63.76%, 36.90% to 39.39%, and 55.16% to 66.53%. The risk-free interest rate ranges from 1.43% to 4.52%, 0.04% to 0.07%, and 0.11% to 0.15%. The expected dividends are not provided for any scenario.',\n",
       " 'The table shows pre-tax income including equity income for U.S. and non-U.S. entities for December 31, 2022, December 25, 2021, and December 26, 2020. In millions, the U.S. pre-tax income for December 31, 2022, is 2,003. For December 25, 2021, it is $3528, and for December 26, 2020, it is $1,213. The non-U.S. total pre-tax income including equity income for December 31, 2022, is (895). For December 25, 2021, it is $147, and for December 26, 2020, it is $67.',\n",
       " 'The table shows income tax provisions (benefits) for December 31, 2022, December 25, 2021, and December 26, 2020 in millions. The current income tax provision for December 31, 2022 is 1,383 million, with 205 million for December 25, 2021, and 13 million for December 26, 2020. The deferred income tax provision for December 31, 2022 is (1,505) million, with 308 million for December 25, 2021, and (1,223) million for December 26, 2020.',\n",
       " 'The table shows the income tax provision (benefit) for the company on December 31, 2022, December 25, 2021, and December 26, 2020. It includes various components such as statutory federal income tax expense, state taxes, foreign rate detriment, GILTI and other foreign inclusion, FDII deduction, research credits, stock-based and non-deductible compensation, valuation allowance change, and other items. The total income tax provision (benefit) for each year is also provided.',\n",
       " 'The table shows deferred tax assets and liabilities in millions. The deferred tax assets include items such as net operating loss carryovers, accruals and reserves not currently deductible, and employee benefits not currently deductible, among others, totaling 4,543. After deducting the valuation allowance, the net deferred tax assets amount to 2,465. On the other hand, the deferred tax liabilities, including acquired intangibles and right-of-use assets, total (4,341). The net deferred tax assets (liabilities) amount to (1,876).',\n",
       " 'The table shows the balance at the beginning and end of the year, as well as charges and acquisitions related to income tax expenses and other accounts. The net recoveries balance at the end of the year is also included. The values are in millions.',\n",
       " 'The table shows the balance at the beginning and end of the year, as well as increases and decreases for tax positions taken in the current year and prior years. The amounts are in millions of dollars. The balance at the end of the year is $1361 million, with increases of $275 million and decreases of $119 million.',\n",
       " 'The table shows financial data for interest income, loss on debt redemption, repurchase and conversion, gains (losses) on equity investments, net, and other income (expense) for the years ending December 31, 2022, December 25, 2021, and December 26, 2020 (in millions). Interest income increased from $8 million in 2021 to $65 million in 2022. Loss on debt redemption, repurchase and conversion decreased from $54 million in 2020 to no loss in 2021. Gains (losses) on equity investments, net decreased from $56 million in 2020 to a loss of $62 million in 2021. Other income (expense) increased from a loss of $2 million in 2020 to a gain of $5 million in 2021. Overall, other income (expense), net decreased from a gain of $55 million in 2020 to a loss of $8 million in 2021.',\n",
       " 'The table shows the weighted-average remaining lease term in years for operating leases.',\n",
       " 'The table provides a summary of lease payments, including the total minimum lease payments, interest, present value of net minimum lease payments, current portion, and total long-term operating lease liabilities. The table also includes categories for lease payments ranging from 023 to 028 and thereafter.',\n",
       " 'The table shows unconditional purchase commitments for different categories, with a total of 8,610 commitments. The categories range from 023 to 028 and thereafter, with the highest number of commitments in the 023 category (6,489) and the lowest in the 027 category (85).',\n",
       " 'The table shows beginning balance, provisions during the period, and settlements during the period ending balance in millions. Provisions during the period were 115 and 106, while settlements during the period ending balance were (101) and (92) and 65 and 51.',\n",
       " 'The table includes various financial statements such as Consolidated Statements of Operations, Consolidated Statements of Comprehensive Income, Consolidated Balance Sheets, Consolidated Statements of Stockholders’ Equity, Consolidated Statements of Cash Flows, and Notes to Consolidated Financial Statements. It also includes reports of Independent Registered Public Accounting Firm (PCAOB ID: 42).',\n",
       " \"The table summarizes various agreements and amendments filed as exhibits to AMD's Quarterly Reports on Form 10-Q. These include stock option and restricted stock unit agreements for senior vice presidents and above, as well as wafer supply agreements and their amendments. The agreements are incorporated by reference in the filings.\",\n",
       " 'This table includes a list of Wafer Supply Agreement Amendments between Advanced Micro Devices, Inc. and GLOBALFOUNDRIES Inc. and GLOBALFOUNDRIES U.S. Inc. The dates of the amendments range from 2014 to 2019. Additionally, there is a policy revision related to business aircraft usage and commercial travel filed as Exhibit 10.58 to AMD’s Annual Report on Form 10-K for the fiscal year ended December 26, 2020.',\n",
       " \"The table incorporates various forms of agreements for Performance-based Restricted Stock Units, Restricted Stock Units, and Stock Option Agreements for Senior Vice Presidents and Above under the 2004 Equity Incentive Plan, filed as exhibits to AMD's Quarterly Report on Form 10-Q for the fiscal quarter ended June 26, 2021.\",\n",
       " 'The table provides a list of company executives and directors, along with their titles and the date of their signatures. Lisa T. Su is the President and Chief Executive Officer, Jean Hu is the Executive Vice President, Chief Financial Officer and Treasurer, and Darla Smith is the Corporate Vice President, Chief Accounting Officer. The table also includes the names of the directors and the date of their signatures. All signatures are dated February 27, 2023.',\n",
       " 'The table provides a list of companies and their respective locations. The companies are primarily located in California and Delaware.',\n",
       " 'The table provides a list of companies and their respective countries. The companies are primarily in the technology industry, with locations in Armenia, Barbados, Belgium, Bermuda, Brazil, Canada, Cayman Islands, China, France, Germany, Hong Kong, and India.',\n",
       " 'The table provides a list of company names and their respective countries. The companies are located in India, Ireland, Israel, Italy, Japan, Malaysia, Netherlands, Poland, Romania, Serbia, Singapore, Sweden, and the United Kingdom.',\n",
       " 'The table provides a list of signatures, titles, and dates for various executives and directors of a company as of February 2023. Lisa T. Su is the President and Chief Executive Officer, Jean Hu is the Executive Vice President, Chief Financial Officer and Treasurer, Darla Smith is the Corporate Vice President, Chief Accounting Officer, Nora M. Denzel is the Lead Independent Director, Mark Durcan is a Director, and Mike P. Gregoire is also a Director.',\n",
       " 'The table lists the names of directors and their appointment dates. Joe A. Householder and John W. Marren were appointed as directors on February 9, 2023. John W. Marren, Jon A. Olson, and Abhi Y. Talwalkar were also appointed as directors, but their appointment dates are not provided. Beth W. Vanderslice was appointed as a director on February 10, 2023.']"
      ]
     },
     "execution_count": 4,
     "metadata": {},
     "output_type": "execute_result"
    }
   ],
   "source": [
    "testpkl[0]"
   ]
  },
  {
   "cell_type": "code",
   "execution_count": null,
   "metadata": {},
   "outputs": [],
   "source": []
  }
 ],
 "metadata": {
  "kernelspec": {
   "display_name": "Python 3 (ipykernel)",
   "language": "python",
   "name": "python3"
  },
  "language_info": {
   "codemirror_mode": {
    "name": "ipython",
    "version": 3
   },
   "file_extension": ".py",
   "mimetype": "text/x-python",
   "name": "python",
   "nbconvert_exporter": "python",
   "pygments_lexer": "ipython3",
   "version": "3.11.7"
  }
 },
 "nbformat": 4,
 "nbformat_minor": 4
}

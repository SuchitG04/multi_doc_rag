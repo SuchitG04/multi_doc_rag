{
 "cells": [
  {
   "cell_type": "code",
   "execution_count": 1,
   "metadata": {},
   "outputs": [],
   "source": [
    "from langchain_core.output_parsers import StrOutputParser\n",
    "from langchain_core.prompts import ChatPromptTemplate\n",
    "from langchain_openai import ChatOpenAI\n",
    "from operator import itemgetter\n",
    "from langchain_core.runnables import RunnableLambda, RunnablePassthrough"
   ]
  },
  {
   "cell_type": "code",
   "execution_count": 2,
   "metadata": {},
   "outputs": [],
   "source": [
    "import os\n",
    "from dotenv import load_dotenv\n",
    "load_dotenv()\n",
    "\n",
    "OPENAI_API_KEY = os.getenv('OPENAI_API_KEY')"
   ]
  },
  {
   "cell_type": "code",
   "execution_count": 3,
   "metadata": {},
   "outputs": [],
   "source": [
    "model = ChatOpenAI(temperature=0.3, model=\"gpt-3.5-turbo-1106\")"
   ]
  },
  {
   "cell_type": "code",
   "execution_count": 4,
   "metadata": {},
   "outputs": [
    {
     "data": {
      "text/plain": [
       "\"{'AMD.10K.2023.pdf': '10K report of AMD', 'BABA.10K.2023.pdf': '10K report of Alibaba', 'CSCO.10K.2023.pdf': '10K report of Cisco', 'IBM.10K.2023.pdf': '10K report of IBM', 'UBER.10K.2023.pdf': '10K report of Uber'}\""
      ]
     },
     "execution_count": 4,
     "metadata": {},
     "output_type": "execute_result"
    }
   ],
   "source": [
    "pdf_names = {\"AMD.10K.2023.pdf\": \"10K report of AMD\",\n",
    "             \"BABA.10K.2023.pdf\": \"10K report of Alibaba\",\n",
    "             \"CSCO.10K.2023.pdf\": \"10K report of Cisco\",\n",
    "             \"IBM.10K.2023.pdf\": \"10K report of IBM\",\n",
    "             \"UBER.10K.2023.pdf\": \"10K report of Uber\"}\n",
    "f\"{pdf_names}\""
   ]
  },
  {
   "cell_type": "code",
   "execution_count": 5,
   "metadata": {},
   "outputs": [],
   "source": [
    "get_split_ques_text = \"\"\"You are an assistant tasked with generating additional questions according to the given instructions. \\\n",
    "Given a query, generate question(s) so as to query from the individual companies, but do NOT change the \\\n",
    "meaning and keywords of the original query. Separate each split question by a newline. In the question, include the \\\n",
    "company name only and NOT '10K report by xxx'.\n",
    "<--example start-->\n",
    "Query: What are the equity compensation plans of AMD and Cisco?\n",
    "Answer:\n",
    "What is the equity compensation plans of AMD?\n",
    "What is the equity compensation plans of Cisco?\n",
    "<--example end-->\n",
    "\n",
    "Query: {user_query}\n",
    "Answer:\n",
    "\"\"\"\n",
    "get_split_ques_prompt = ChatPromptTemplate.from_template(get_split_ques_text)"
   ]
  },
  {
   "cell_type": "code",
   "execution_count": 6,
   "metadata": {},
   "outputs": [],
   "source": [
    "def get_pdfs_from_chain(resp):\n",
    "  pdf_list = \"\"\n",
    "  for pdf in resp.split(','):\n",
    "    pdf_list += f\"\"\"{pdf.strip()}: {pdf_names[f'{pdf.strip()}']}\n",
    "\"\"\"\n",
    "  \n",
    "  return pdf_list"
   ]
  },
  {
   "cell_type": "code",
   "execution_count": 7,
   "metadata": {},
   "outputs": [],
   "source": [
    "get_ques_chain = get_split_ques_prompt | model | StrOutputParser()"
   ]
  },
  {
   "cell_type": "code",
   "execution_count": 8,
   "metadata": {},
   "outputs": [],
   "source": [
    "test_resp2 = get_ques_chain.invoke(\n",
    "  {\"user_query\": \"What is the long-term performance plans of Uber\"}\n",
    ")"
   ]
  },
  {
   "cell_type": "code",
   "execution_count": 9,
   "metadata": {},
   "outputs": [
    {
     "name": "stdout",
     "output_type": "stream",
     "text": [
      "What is the long-term performance plans of Uber?\n"
     ]
    }
   ],
   "source": [
    "print(test_resp2)"
   ]
  },
  {
   "cell_type": "code",
   "execution_count": 17,
   "metadata": {},
   "outputs": [],
   "source": [
    "get_pdfs_to_query_text = \"\"\"You are an assistant tasked with extracting the PDFs to query from the given query. \\\n",
    "Given a set of questions, give the relevant PDFs (separated by commas) from the list that can be used to answer the questions.\n",
    "<--example start-->\n",
    "Query:\n",
    "What is the revenue of IBM for the year 2022?\n",
    "What is the revenue of Uber for the year 2022?\n",
    "PDFs:\n",
    "AMD.10K.2023.pdf - 10K report of AMD\n",
    "IBM.10K.2023.pdf - 10K report of IBM\n",
    "BABA.10K.2023.pdf - 10K report of AliBaba\n",
    "CSCO.10K.2023.pdf - 10K report of Cisco\n",
    "UBER.10K.2023.pdf - 10K report of Uber\n",
    "Answer: IBM.10K.2023.pdf, UBER.10K.2023.pdf\n",
    "<--example end-->\n",
    "\n",
    "Query: {user_query}\n",
    "PDFs:\n",
    "{pdf_names}\n",
    "Answer:\"\"\"\n",
    "get_pdfs_to_query_prompt = ChatPromptTemplate.from_template(get_pdfs_to_query_text)"
   ]
  },
  {
   "cell_type": "code",
   "execution_count": 11,
   "metadata": {},
   "outputs": [],
   "source": [
    "get_pdfs_chain = get_pdfs_to_query_prompt | model | StrOutputParser()"
   ]
  },
  {
   "cell_type": "code",
   "execution_count": 12,
   "metadata": {},
   "outputs": [],
   "source": [
    "test_resp = get_pdfs_chain.invoke({\"user_query\": \"Compare the RSU vesting by AMD and cisco for the year 2022\", \"pdf_names\": pdf_names})"
   ]
  },
  {
   "cell_type": "code",
   "execution_count": 13,
   "metadata": {},
   "outputs": [],
   "source": [
    "test_pdf_dict = {}\n",
    "for pdf in test_resp.split(','):\n",
    "  test_pdf_dict.update({f\"{pdf.strip()}\": pdf_names[f\"{pdf.strip()}\"]})"
   ]
  },
  {
   "cell_type": "code",
   "execution_count": 14,
   "metadata": {},
   "outputs": [
    {
     "data": {
      "text/plain": [
       "{'AMD.10K.2023.pdf': '10K report of AMD',\n",
       " 'CSCO.10K.2023.pdf': '10K report of Cisco'}"
      ]
     },
     "execution_count": 14,
     "metadata": {},
     "output_type": "execute_result"
    }
   ],
   "source": [
    "test_pdf_dict"
   ]
  },
  {
   "cell_type": "code",
   "execution_count": 15,
   "metadata": {},
   "outputs": [
    {
     "data": {
      "text/plain": [
       "'UBER.10K.2023.pdf'"
      ]
     },
     "execution_count": 15,
     "metadata": {},
     "output_type": "execute_result"
    }
   ],
   "source": [
    "get_pdfs_chain.invoke({\"user_query\": \"What is the RSU vesting by uber for the year 2022?\", \"pdf_names\": pdf_names})"
   ]
  },
  {
   "cell_type": "code",
   "execution_count": 16,
   "metadata": {},
   "outputs": [
    {
     "data": {
      "text/plain": [
       "'AMD.10K.2023.pdf: 10K report of AMD\\nIBM.10K.2023.pdf: 10K report of IBM\\n'"
      ]
     },
     "execution_count": 16,
     "metadata": {},
     "output_type": "execute_result"
    }
   ],
   "source": [
    "get_pdfs_from_chain(\"AMD.10K.2023.pdf, IBM.10K.2023.pdf\")"
   ]
  },
  {
   "cell_type": "code",
   "execution_count": null,
   "metadata": {},
   "outputs": [],
   "source": []
  }
 ],
 "metadata": {
  "kernelspec": {
   "display_name": "Python 3 (ipykernel)",
   "language": "python",
   "name": "python3"
  },
  "language_info": {
   "codemirror_mode": {
    "name": "ipython",
    "version": 3
   },
   "file_extension": ".py",
   "mimetype": "text/x-python",
   "name": "python",
   "nbconvert_exporter": "python",
   "pygments_lexer": "ipython3",
   "version": "3.11.7"
  }
 },
 "nbformat": 4,
 "nbformat_minor": 4
}

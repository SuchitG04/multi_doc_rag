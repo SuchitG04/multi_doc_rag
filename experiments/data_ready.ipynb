{
 "cells": [
  {
   "cell_type": "code",
   "execution_count": 1,
   "metadata": {},
   "outputs": [],
   "source": [
    "from chains import get_ques_chain, get_pdfs_chain"
   ]
  },
  {
   "cell_type": "code",
   "execution_count": 2,
   "metadata": {},
   "outputs": [],
   "source": [
    "from typing import Any\n",
    "from pydantic import BaseModel\n",
    "from unstructured.partition.pdf import partition_pdf\n",
    "import pickle"
   ]
  },
  {
   "cell_type": "code",
   "execution_count": 4,
   "metadata": {},
   "outputs": [],
   "source": [
    "pdf_paths = [\"./AMD.10K.2023.pdf\", \"./BABA.10K.2023.pdf\", \"./CSCO.10K.2023.pdf\", \"./IBM.10K.2023.pdf\", \"./UBER.10K.2023.pdf\"]"
   ]
  },
  {
   "cell_type": "code",
   "execution_count": null,
   "metadata": {},
   "outputs": [],
   "source": [
    "# !! Think twice before running this cell, because you have pickled the required elements + running out of api calls !!\n",
    "raw_pdfs_elements = []\n",
    "for i,pdf_path in enumerate(pdf_paths):\n",
    "  raw_pdfs_elements.append(\n",
    "    partition_pdf(\n",
    "      filename=pdf_path,\n",
    "      extract_images_in_pdf=False,\n",
    "      infer_table_structure=True,\n",
    "      chunking_strategy=\"by_title\",\n",
    "      max_characters=1800,\n",
    "      new_after_n_chars=1500,\n",
    "      combine_text_under_n_chars=1000,\n",
    "      image_output_dir_path=\"./\",\n",
    "      url=<your_api_url>,\n",
    "      token=<your_api_token>,\n",
    "    )\n",
    "  )\n",
    "  \n",
    "  with open(f'{pdf_path}-{i}.pkl', 'wb') as f:\n",
    "    pickle.dump(raw_pdfs_elements[i], f)\n"
   ]
  },
  {
   "cell_type": "code",
   "execution_count": 15,
   "metadata": {},
   "outputs": [],
   "source": [
    "new_pdf_paths = [\"./IBM.10K.2023.pdf\", \"./UBER.10K.2023.pdf\"]\n",
    "for i,pdf_path in enumerate(new_pdf_paths):\n",
    "  raw_pdfs_elements.append(\n",
    "    partition_pdf(\n",
    "      filename=pdf_path,\n",
    "      extract_images_in_pdf=False,\n",
    "      infer_table_structure=True,\n",
    "      chunking_strategy=\"by_title\",\n",
    "      max_characters=1800,\n",
    "      new_after_n_chars=1500,\n",
    "      combine_text_under_n_chars=1000,\n",
    "      image_output_dir_path=\"./\",\n",
    "      url=<your_api_url>,\n",
    "      token=<your_api_token>,\n",
    "    )\n",
    "  )\n",
    "  \n",
    "  with open(f'{pdf_path}-{i+2}.pkl', 'wb') as f:\n",
    "    pickle.dump(raw_pdfs_elements[i+2], f)\n"
   ]
  },
  {
   "cell_type": "code",
   "execution_count": 18,
   "metadata": {},
   "outputs": [
    {
     "name": "stderr",
     "output_type": "stream",
     "text": [
      "Some weights of the model checkpoint at microsoft/table-transformer-structure-recognition were not used when initializing TableTransformerForObjectDetection: ['model.backbone.conv_encoder.model.layer4.0.downsample.1.num_batches_tracked', 'model.backbone.conv_encoder.model.layer2.0.downsample.1.num_batches_tracked', 'model.backbone.conv_encoder.model.layer3.0.downsample.1.num_batches_tracked']\n",
      "- This IS expected if you are initializing TableTransformerForObjectDetection from the checkpoint of a model trained on another task or with another architecture (e.g. initializing a BertForSequenceClassification model from a BertForPreTraining model).\n",
      "- This IS NOT expected if you are initializing TableTransformerForObjectDetection from the checkpoint of a model that you expect to be exactly identical (initializing a BertForSequenceClassification model from a BertForSequenceClassification model).\n"
     ]
    }
   ],
   "source": [
    "uber_elements = partition_pdf(\n",
    "  filename=\"./UBER.10K.2023.pdf\",\n",
    "  extract_images_in_pdf=False,\n",
    "  infer_table_structure=True,\n",
    "  chunking_strategy=\"by_title\",\n",
    "  max_characters=1800,\n",
    "  new_after_n_chars=1500,\n",
    "  combine_text_under_n_chars=1000,\n",
    "  image_output_dir_path=\"./\",\n",
    "  url=<your_api_url>,\n",
    "  token=<your_api_token>,\n",
    ")\n",
    "\n",
    "with open(\"./UBER.10K.2023.pdf-3.pkl\", 'wb') as f:\n",
    "  pickle.dump(uber_elements, f)"
   ]
  },
  {
   "cell_type": "code",
   "execution_count": 19,
   "metadata": {},
   "outputs": [],
   "source": [
    "with open(\"./UBER.10K.2023.pdf-3.pkl\", 'rb') as f:\n",
    "  testpkl = pickle.load(f)"
   ]
  },
  {
   "cell_type": "code",
   "execution_count": 20,
   "metadata": {},
   "outputs": [
    {
     "name": "stdout",
     "output_type": "stream",
     "text": [
      "Document. Cover Page Interactive Data File (formatted as inline XBRL and contained in Exhibit 101).\n",
      "\n",
      "+Portions of this exhibit have been omitted in accordance with Item 601(b)(10)(iv) of Regulation S-K. ‡This form of employment agreement will be used for all named executive officer employment agreements entered into and effective after July 1, 2020 unless otherwise noted. * The certifications attached as Exhibit 32.1 that accompany this Annual Report on Form 10-K are deemed furnished and not filed with the Securities and Exchange Commission and are not to be incorporated by reference into any filing of Uber Technologies, Inc. under the Securities Act of 1933, as amended, or the Securities Exchange Act of 1934, as amended, whether made before or after the date of this Annual Report on Form 10-K, irrespective of any general incorporation language contained in such filing.\n",
      "\n",
      "145\n",
      "\n",
      "SIGNATURES\n",
      "\n",
      "Pursuant to the requirements of Section 13 or 15(d) of the Securities Exchange Act of 1934, the registrant has duly caused this report to be signed on its behalf by the undersigned thereunto duly authorized.\n"
     ]
    }
   ],
   "source": [
    "print(testpkl[-8].text)"
   ]
  },
  {
   "cell_type": "code",
   "execution_count": null,
   "metadata": {},
   "outputs": [],
   "source": []
  }
 ],
 "metadata": {
  "kernelspec": {
   "display_name": "Python 3 (ipykernel)",
   "language": "python",
   "name": "python3"
  },
  "language_info": {
   "codemirror_mode": {
    "name": "ipython",
    "version": 3
   },
   "file_extension": ".py",
   "mimetype": "text/x-python",
   "name": "python",
   "nbconvert_exporter": "python",
   "pygments_lexer": "ipython3",
   "version": "3.11.7"
  }
 },
 "nbformat": 4,
 "nbformat_minor": 4
}

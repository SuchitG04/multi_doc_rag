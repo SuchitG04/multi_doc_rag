{
 "cells": [
  {
   "cell_type": "code",
   "execution_count": 1,
   "metadata": {},
   "outputs": [],
   "source": [
    "from langchain_core.tools import tool\n",
    "from langchain_openai import ChatOpenAI, OpenAIEmbeddings\n",
    "\n",
    "import uuid\n",
    "from langchain.retrievers import BM25Retriever, EnsembleRetriever, MultiVectorRetriever\n",
    "from langchain.storage import InMemoryStore\n",
    "from langchain_community.vectorstores import Chroma\n",
    "from langchain_core.prompts import ChatPromptTemplate\n",
    "from langchain_core.output_parsers import StrOutputParser, JsonOutputParser\n",
    "from langchain_core.runnables import (\n",
    "  Runnable,\n",
    "  RunnableLambda,\n",
    "  RunnablePassthrough\n",
    ")\n",
    "from langchain_core.documents import Document\n",
    "from langchain.output_parsers import JsonOutputToolsParser\n",
    "\n",
    "from typing import Union\n",
    "from operator import itemgetter\n",
    "import pickle\n",
    "from itertools import chain"
   ]
  },
  {
   "cell_type": "code",
   "execution_count": 2,
   "metadata": {},
   "outputs": [],
   "source": [
    "model = ChatOpenAI(temperature=0, model=\"gpt-3.5-turbo-1106\")"
   ]
  },
  {
   "cell_type": "code",
   "execution_count": 3,
   "metadata": {},
   "outputs": [],
   "source": [
    "pdfs = ['AAPL.10K.2023.pdf', 'AMD.10K.2023.pdf', 'IBM.10K.2023.pdf']"
   ]
  },
  {
   "cell_type": "code",
   "execution_count": 4,
   "metadata": {},
   "outputs": [],
   "source": [
    "with open('all_pdf_docs.pkl', 'rb') as f:\n",
    "  all_pdf_docs = pickle.load(f)\n",
    "\n",
    "with open('all_pdf_tables.pkl', 'rb') as f:\n",
    "  all_pdf_tables = pickle.load(f)\n",
    "\n",
    "with open('table_summaries.pkl', 'rb') as f:\n",
    "  table_summaries = pickle.load(f)"
   ]
  },
  {
   "cell_type": "code",
   "execution_count": 5,
   "metadata": {},
   "outputs": [],
   "source": [
    "# vectorstore = Chroma.from_documents(documents=all_pdf_docs, embedding=OpenAIEmbeddings(model=\"text-embedding-3-small\"))"
   ]
  },
  {
   "cell_type": "code",
   "execution_count": 6,
   "metadata": {},
   "outputs": [],
   "source": [
    "table_summaries = list(chain(*table_summaries))"
   ]
  },
  {
   "cell_type": "code",
   "execution_count": 7,
   "metadata": {},
   "outputs": [],
   "source": [
    "text_summarize_prompt_text = \"\"\"You are an assistant tasked with summarizing text. \\ \n",
    "Give a concise summary of the text. Text chunk: {element} \"\"\"\n",
    "text_summarize_prompt = ChatPromptTemplate.from_template(text_summarize_prompt_text)\n",
    "\n",
    "text_summarize_chain = {\"element\": lambda x: x} | text_summarize_prompt | model | StrOutputParser()"
   ]
  },
  {
   "cell_type": "code",
   "execution_count": 8,
   "metadata": {},
   "outputs": [],
   "source": [
    "# texts = [text.page_content for text in all_pdf_docs if text.metadata['pdf_title'] in [\"AAPL.10K.2023.pdf\", \"AMD.10K.2023.pdf\", \"IBM.10K.2023.pdf\"]]\n",
    "# text_summaries = text_summarize_chain.batch(texts, {\"max_concurrency\": 5})"
   ]
  },
  {
   "cell_type": "code",
   "execution_count": 9,
   "metadata": {},
   "outputs": [],
   "source": [
    "# with open(\"text_summaries.pkl\", 'wb') as f:\n",
    "#   pickle.dump(text_summaries, f)"
   ]
  },
  {
   "cell_type": "code",
   "execution_count": 10,
   "metadata": {},
   "outputs": [],
   "source": [
    "with open(\"text_summaries.pkl\", 'rb') as f:\n",
    "  text_summaries = pickle.load(f)"
   ]
  },
  {
   "cell_type": "code",
   "execution_count": 11,
   "metadata": {},
   "outputs": [
    {
     "data": {
      "text/plain": [
       "\"Intel's dominant position in the market could negatively impact our business due to their business practices, including pricing actions, product bundling, and marketing strategies. They have greater financial resources and invest heavily in marketing and research and development, making us vulnerable to their aggressive marketing and pricing strategies for microprocessor products.\""
      ]
     },
     "execution_count": 11,
     "metadata": {},
     "output_type": "execute_result"
    }
   ],
   "source": [
    "text_summaries[57]"
   ]
  },
  {
   "cell_type": "code",
   "execution_count": 13,
   "metadata": {},
   "outputs": [],
   "source": [
    "multi_vectorstore = Chroma(collection_name=\"summaries_docs\", embedding_function=OpenAIEmbeddings(model=\"text-embedding-3-small\"))\n",
    "store = InMemoryStore()\n",
    "id_key = \"doc_id\"\n",
    "\n",
    "retriever = MultiVectorRetriever(\n",
    "  vectorstore=multi_vectorstore,\n",
    "  docstore=store,\n",
    "  id_key=id_key,\n",
    "  search_type=\"mmr\",\n",
    "  search_kwargs={\"k\":2},\n",
    ")\n"
   ]
  },
  {
   "cell_type": "code",
   "execution_count": 14,
   "metadata": {},
   "outputs": [
    {
     "name": "stderr",
     "output_type": "stream",
     "text": [
      "Warning: model not found. Using cl100k_base encoding.\n"
     ]
    }
   ],
   "source": [
    "doc_ids = [str(uuid.uuid4()) for _ in all_pdf_docs if _.metadata['pdf_title'] in pdfs]\n",
    "temp_docs = [doc for doc in all_pdf_docs if doc.metadata['pdf_title'] in pdfs]\n",
    "text_summaries_docs = [\n",
    "  Document(page_content=text_summaries[i], metadata={id_key:doc_ids[i], \"pdf_title\":doc.metadata['pdf_title']})\n",
    "  for i,doc in enumerate(temp_docs)\n",
    "]\n",
    "retriever.vectorstore.add_documents(text_summaries_docs)\n",
    "retriever.docstore.mset(list(zip(doc_ids,temp_docs)))"
   ]
  },
  {
   "cell_type": "code",
   "execution_count": 15,
   "metadata": {},
   "outputs": [
    {
     "name": "stderr",
     "output_type": "stream",
     "text": [
      "Warning: model not found. Using cl100k_base encoding.\n"
     ]
    }
   ],
   "source": [
    "table_ids = [str(uuid.uuid4()) for _ in all_pdf_tables if _.metadata['pdf_title'] in pdfs]\n",
    "temp_tables = [table for table in all_pdf_tables if table.metadata['pdf_title'] in pdfs]\n",
    "table_summaries_docs = [\n",
    "  Document(page_content=table_summaries[i], metadata={id_key:table_ids[i], \"pdf_title\":table.metadata['pdf_title']})\n",
    "  for i,table in enumerate(temp_tables)\n",
    "]\n",
    "retriever.vectorstore.add_documents(table_summaries_docs)\n",
    "retriever.docstore.mset(list(zip(table_ids, temp_tables)))"
   ]
  },
  {
   "cell_type": "code",
   "execution_count": 16,
   "metadata": {},
   "outputs": [
    {
     "name": "stderr",
     "output_type": "stream",
     "text": [
      "Warning: model not found. Using cl100k_base encoding.\n"
     ]
    },
    {
     "data": {
      "text/plain": [
       "[Document(page_content='ternal financing on favorable terms, or at all; AMD’s expectation that based on management’s current knowledge, the potential liability related to AMD’s current litigation will not have a material adverse effect on its financial position, results of operation or cash flows; anticipated ongoing and increased costs related to enhancing and implementing information security controls; all unbilled accounts receivables are expected to be billed and collected within 12 months; revenue allocated to remaining performance obligations that are unsatisfied which will be recognized in the next 12 months; and a small number of customers will continue to account for a substantial part of AMD’s revenue in the future. For a discussion of the factors that could cause actual results to differ materially from the forward-looking statements, see “Part I, Item 1A-Risk Factors” and the “Financial Condition” section set forth in “Part II, Item 7-Management’s Discussion and Analysis of Financial Condition and Results of Operations,” or MD&A, and such other risks and uncertainties as set forth below in this report or detailed in our other Securities and Exchange Commission (SEC) reports and filings. We assume no obligation to update forward-looking statements.', metadata={'pdf_title': 'AMD.10K.2023.pdf'}),\n",
       " Document(page_content='<table><tr><td>Long-term taxes payable</td><td>$</td><td>15,457</td><td>$</td><td>16,657</td></tr><tr><td>Other non-current liabilities</td><td></td><td>34,391</td><td></td><td>32,485</td></tr><tr><td>Total other non-current liabilities</td><td>$</td><td>49,848</td><td>$</td><td>49,142</td></tr></table>', metadata={'pdf_title': 'AAPL.10K.2023.pdf'})]"
      ]
     },
     "execution_count": 16,
     "metadata": {},
     "output_type": "execute_result"
    }
   ],
   "source": [
    "retriever.invoke(\"How does the AMD\\'s debt and equity position look?\")"
   ]
  },
  {
   "cell_type": "code",
   "execution_count": 17,
   "metadata": {},
   "outputs": [],
   "source": [
    "# @tool\n",
    "# def context_retriever(pdf_name: str, query: str) -> str:\n",
    "#   \"\"\"Function to get information about the exact user query\"\"\"\n",
    "#   vec_retriever = vectorstore.as_retriever(search_type=\"mmr\", search_kwargs={\"filter\":{\"pdf_title\": pdf_name}, \"k\":2})\n",
    "#   bm25_retriever = BM25Retriever.from_documents([all_pdf_doc for all_pdf_doc in all_pdf_docs if pdf_name in all_pdf_doc.metadata['pdf_title']], k=2)\n",
    "#   ens_retriever = EnsembleRetriever(\n",
    "#     retrievers=[vec_retriever, bm25_retriever]\n",
    "#   )\n",
    "#   _context = ens_retriever.invoke(query)\n",
    "#   context = '\\n'.join(c.page_content for c in _context)\n",
    "#   return f\"Context from {pdf_name} report:\\n {context}\"\n"
   ]
  },
  {
   "cell_type": "code",
   "execution_count": 18,
   "metadata": {},
   "outputs": [],
   "source": [
    "# tools = [context_retriever]\n",
    "# model_with_tools = model.bind_tools(tools)\n",
    "# tool_map = {tool.name: tool for tool in tools}\n",
    "\n",
    "# def call_tool(tool_invocation: dict) -> Union[str, Runnable]:\n",
    "#   \"\"\"Function for dynamically constructing the end of the chain based on the model-selected tool.\"\"\"\n",
    "#   tool = tool_map[tool_invocation[\"type\"]]\n",
    "#   return RunnablePassthrough.assign(output=itemgetter(\"args\") | tool)\n",
    "\n",
    "# call_tool_list = RunnableLambda(call_tool).map()\n",
    "# tool_chain = model_with_tools | JsonOutputToolsParser() | call_tool_list"
   ]
  },
  {
   "cell_type": "code",
   "execution_count": 19,
   "metadata": {},
   "outputs": [],
   "source": [
    "# tool_input = \"\"\"What is the revenue of amd for the year 2022?, AMD.10K.2023.pdf\n",
    "# What is the revenue of alibaba for the year 2022?, BABA.10K.2023.pdf\"\"\"\n",
    "# args_resp = tool_chain.invoke(tool_input)"
   ]
  },
  {
   "cell_type": "code",
   "execution_count": 20,
   "metadata": {},
   "outputs": [],
   "source": [
    "get_pdf_query = \"\"\"You are an assistant tasked with generating additional questions from the given query. \\\n",
    "Given a set of questions, give the relevant questions (in the format as shown) pertaining to each individual company \\\n",
    "in the query IF there are more than one.\n",
    "<--example start-->\n",
    "Query: What are the equity compensation plans of AMD and Cisco?\n",
    "Answer:\n",
    "What are the equity compensation plans of AMD?\n",
    "What are the equity compensation plans of Cisco?\n",
    "<--example end-->\n",
    "\n",
    "<--example start-->\n",
    "Are there any ongoing legal disputes with Intel?\n",
    "Answer:\n",
    "Are there any ongoing legal disputes with Intel?\n",
    "<--example end-->\n",
    "\n",
    "Query: {user_query}\n",
    "Answer:\n",
    "\"\"\"\n",
    "get_pdf_query_prompt = ChatPromptTemplate.from_template(get_pdf_query)\n",
    "get_pdf_query_chain = {\"user_query\": RunnablePassthrough()} | get_pdf_query_prompt | model | StrOutputParser()"
   ]
  },
  {
   "cell_type": "code",
   "execution_count": 21,
   "metadata": {},
   "outputs": [],
   "source": [
    "# test_dict = {\"user_query\":\"How is alibaba's revenue for the year of 2023\"}\n",
    "# test_resp = get_pdf_query_chain.invoke(test_dict)\n",
    "# print(test_resp)"
   ]
  },
  {
   "cell_type": "code",
   "execution_count": 22,
   "metadata": {},
   "outputs": [],
   "source": [
    "def parse_context(contexts):\n",
    "  str_out = \"\"\n",
    "  for context in contexts:\n",
    "    str_out += \"CONTEXT FROM \" + context[0].metadata['pdf_title'] + \"\\n\"\n",
    "    if len(context)==1:\n",
    "      continue\n",
    "\n",
    "    for c in context:\n",
    "      str_out += c.page_content + \"\\n\\n\"\n",
    "\n",
    "  return str_out"
   ]
  },
  {
   "cell_type": "code",
   "execution_count": 23,
   "metadata": {},
   "outputs": [],
   "source": [
    "context_chain = get_pdf_query_chain | RunnableLambda(lambda x: x.split('\\n')) | RunnableLambda(retriever.invoke).map() | parse_context"
   ]
  },
  {
   "cell_type": "code",
   "execution_count": 24,
   "metadata": {},
   "outputs": [
    {
     "name": "stderr",
     "output_type": "stream",
     "text": [
      "Warning: model not found. Using cl100k_base encoding.\n"
     ]
    }
   ],
   "source": [
    "context_resp = context_chain.invoke({\"user_query\":\"How much is Apple investing in R&D\"})"
   ]
  },
  {
   "cell_type": "code",
   "execution_count": 25,
   "metadata": {
    "scrolled": true
   },
   "outputs": [
    {
     "name": "stdout",
     "output_type": "stream",
     "text": [
      "CONTEXT FROM AAPL.10K.2023.pdf\n",
      "Research and Development\n",
      "\n",
      "The year-over-year growth in R&D expense in 2023 was driven primarily by increases in headcount-related expenses.\n",
      "\n",
      "Selling, General and Administrative\n",
      "\n",
      "Selling, general and administrative expense was relatively flat in 2023 compared to 2022.\n",
      "\n",
      "Apple Inc. | 2023 Form 10-K | 23\n",
      "\n",
      "Provision for Income Taxes\n",
      "\n",
      "Provision for income taxes, effective tax rate and statutory federal income tax rate for 2023, 2022 and 2021 were as follows (dollars in millions):\n",
      "\n",
      "Apple Inc. | 2023 Form 10-K | 11\n",
      "\n",
      "Investment in new business strategies and acquisitions could disrupt the Company’s ongoing business, present risks not originally contemplated and materially adversely affect the Company’s business, reputation, results of operations and financial condition.\n",
      "\n",
      "The Company has invested, and in the future may invest, in new business strategies or acquisitions. Such endeavors may involve significant risks and uncertainties, including distraction of management from current operations, greater-than-expected liabilities and expenses, economic, political, legal and regulatory challenges associated with operating in new businesses, regions or countries, inadequate return on capital, potential impairment of tangible and intangible assets, and significant write- offs. Investment and acquisition transactions are exposed to additional risks, including failing to obtain required regulatory approvals on a timely basis or at all, or the imposition of onerous conditions that could delay or prevent the Company from completing a transaction or otherwise limit the Company’s ability to fully realize the anticipated benefits of a transaction. These new ventures are inherently risky and may not be successful. The failure of any significant investment could materially adversely affect the Company’s business, reputation, results of operations and financial condition.\n",
      "\n",
      "\n"
     ]
    }
   ],
   "source": [
    "print(context_resp)"
   ]
  },
  {
   "cell_type": "code",
   "execution_count": 26,
   "metadata": {},
   "outputs": [],
   "source": [
    "rag_prompt_text = \"\"\"You are an assistant for question-answering tasks. Use the following pieces of retrieved context to answer the question \\\n",
    "in as many words as required.\n",
    "If you don't know the answer, just say \\\"I don't know.\\\"\n",
    "Question: {question}\n",
    "Context: {context}\n",
    "Answer: \n",
    "\"\"\"\n",
    "\n",
    "rag_prompt = ChatPromptTemplate.from_template(rag_prompt_text)"
   ]
  },
  {
   "cell_type": "code",
   "execution_count": 27,
   "metadata": {},
   "outputs": [],
   "source": [
    "rag_chain = (\n",
    "  {\"question\": RunnablePassthrough(), \"context\": context_chain}\n",
    "  | rag_prompt\n",
    "  | ChatOpenAI(temperature=0.4, model=\"gpt-3.5-turbo-1106\")\n",
    "  | StrOutputParser()\n",
    ")"
   ]
  },
  {
   "cell_type": "code",
   "execution_count": 28,
   "metadata": {},
   "outputs": [
    {
     "name": "stderr",
     "output_type": "stream",
     "text": [
      "Warning: model not found. Using cl100k_base encoding.\n"
     ]
    }
   ],
   "source": [
    "rag_resp = rag_chain.invoke({\"question\":\"What is apple's approach to sustainability and environmental impact?\"})"
   ]
  },
  {
   "cell_type": "code",
   "execution_count": 29,
   "metadata": {},
   "outputs": [
    {
     "name": "stdout",
     "output_type": "stream",
     "text": [
      "Apple's approach to sustainability and environmental impact involves complying with complex and changing laws and regulations worldwide, including those related to environmental, health, and safety, electronic waste, recycling, product design, and climate change. They are committed to minimizing their environmental impact and ensuring compliance with environmental regulations.\n"
     ]
    }
   ],
   "source": [
    "print(rag_resp)"
   ]
  },
  {
   "cell_type": "code",
   "execution_count": 30,
   "metadata": {},
   "outputs": [
    {
     "name": "stderr",
     "output_type": "stream",
     "text": [
      "Warning: model not found. Using cl100k_base encoding.\n"
     ]
    }
   ],
   "source": [
    "rag_resp = rag_chain.invoke({\"question\":\"How does IBM's debt and equity position look?\"})"
   ]
  },
  {
   "cell_type": "code",
   "execution_count": 31,
   "metadata": {
    "scrolled": true
   },
   "outputs": [
    {
     "name": "stderr",
     "output_type": "stream",
     "text": [
      "Warning: model not found. Using cl100k_base encoding.\n",
      "Warning: model not found. Using cl100k_base encoding.\n"
     ]
    },
    {
     "name": "stdout",
     "output_type": "stream",
     "text": [
      "CONTEXT FROM IBM.10K.2023.pdf\n",
      "and by Customer Credit Risk on Receivables: The company’s financial performance is exposed to a wide variety of industry sector dynamics worldwide, including sudden shifts in regional or global economic activity. The company’s earnings and cash flows, as well as its access to funding, could be negatively impacted by changes in market liquidity conditions. IBM’s 2022 Annual Report to Stockholders includes information about the company’s liquidity position. The company’s client base includes many enterprises worldwide, from small and medium businesses to the world’s largest organizations and governments, with a significant portion of the company’s revenue coming from global clients across many sectors. Most of the company’s sales are on an open credit basis, and the company performs ongoing credit evaluations of its clients’ financial conditions. If the company becomes aware of information related to the creditworthiness of a major customer, or if future actual default rates on receivables in general differ from those currently anticipated, the company may have to adjust its allowance for credit losses, which could affect the company’s consolidated net income in the period the adjustments are made.\n",
      "\n",
      "33\n",
      "\n",
      "Table of Contents\n",
      "\n",
      "the lenders under our Revolving Credit Agreement accelerate the repayment of borrowings, we cannot assure you that we will have sufficient assets to repay those borrowings.\n",
      "\n",
      "Our indebtedness could adversely affect our financial position and prevent us from implementing our strategy or fulfilling our contractual obligations.\n",
      "\n",
      "Our total debt principal amount outstanding as of December 31, 2022 was $2.5 billion. Our indebtedness may make it difficult for us to satisfy our financial obligations, including making scheduled principal and interest payments; limit our ability to borrow additional funds for working capital, capital expenditures, acquisitions and general corporate and other purposes; limit our ability to use our cash flow or obtain additional financing for future working capital, capital expenditures, acquisitions or other general corporate purposes; require us to use a substantial portion of our cash flow from operations to make debt service payments; place us at a competitive disadvantage compared to our competitors with relatively less debt; and increase our vulnerability to the impact of adverse economic and industry conditions.\n",
      "\n",
      "We enter into sale and factoring arrangements from time to time with respect to certain accounts receivables, which arrangements are non-recourse to us in the event that an account debtor fails to pay for credit-related reasons, and are not included in our indebtedness. We could become obligated to repurchase such accounts receivables or otherwise incur liability to the counterparties under these arrangements under certain circumstances, such as where a commercial dispute arises between us and an account debtor.\n",
      "\n",
      "CONTEXT FROM IBM.10K.2023.pdf\n",
      "Item 3. Legal Proceedings:\n",
      "\n",
      "Refer to note R, “Commitments & Contingencies,” on pages 96 to 98 of IBM’s 2022 Annual Report to Stockholders, which is incorporated herein by reference.\n",
      "\n",
      "Item 4. Mine Safety Disclosures:\n",
      "\n",
      "Not applicable.\n",
      "\n",
      "https://www.sec.gov/Archives/edgar/data/51143/000155837023002376/ibm-20221231x10k.htm\n",
      "\n",
      "22/51\n",
      "\n",
      "1/12/24, 6:41 AM\n",
      "\n",
      "sec.gov/Archives/edgar/data/51143/000155837023002376/ibm-20221231x10k.htm\n",
      "\n",
      "10\n",
      "\n",
      "https://www.sec.gov/Archives/edgar/data/51143/000155837023002376/ibm-20221231x10k.htm\n",
      "\n",
      "23/51\n",
      "\n",
      "1/12/24, 6:41 AM\n",
      "\n",
      "sec.gov/Archives/edgar/data/51143/000155837023002376/ibm-20221231x10k.htm\n",
      "\n",
      "Table of Contents\n",
      "\n",
      "PART II\n",
      "\n",
      "Item 5. Market for the Registrant’s Common Equity, Related Stockholder Matters and Issuer Purchases of Equity Securities:\n",
      "\n",
      "Refer to page 122 of IBM’s 2022 Annual Report to Stockholders, which is incorporated herein by reference solely as it relates to this item.\n",
      "\n",
      "IBM common stock is listed on the New York Stock Exchange and the NYSE Chicago under the symbol “IBM.” There were 380,977 common stockholders of record at February 10, 2023.\n",
      "\n",
      "The following table provides information relating to the company’s repurchase of common stock for the fourth quarter of 2022.\n",
      "\n",
      "Approximate Dollar Value of Shares that May Yet Be Purchased Under the Program*\n",
      "\n",
      "Financing:\n",
      "\n",
      "Financing provides client and commercial financing, facilitating IBM clients’ acquisition of IT systems, software and services. Financing’s ability to manage credit and residual value risk generates a competitive advantage for the company. The key competitive factors include: interest rates charged, IT product experience, client service, contract flexibility, ease of doing business, global capabilities and residual values. In client and commercial financing, Financing primarily competes with non-captive financing entities and financial institutions.\n",
      "\n",
      "\n"
     ]
    }
   ],
   "source": [
    "print(context_chain.invoke(\"How does IBM's debt and equity position look?\"))"
   ]
  },
  {
   "cell_type": "code",
   "execution_count": 32,
   "metadata": {},
   "outputs": [
    {
     "name": "stdout",
     "output_type": "stream",
     "text": [
      "Based on the information provided in the context, IBM's debt position includes long-term taxes payable of $15,457 in 2022 and $16,657 in 2023, as well as other non-current liabilities of $34,391 in 2022 and $32,485 in 2023. The company's equity position is not explicitly mentioned in the provided context. Therefore, based on the given information, it is not possible to provide a comprehensive assessment of IBM's debt and equity position.\n"
     ]
    }
   ],
   "source": [
    "print(rag_resp)"
   ]
  },
  {
   "cell_type": "code",
   "execution_count": 33,
   "metadata": {},
   "outputs": [
    {
     "name": "stderr",
     "output_type": "stream",
     "text": [
      "Warning: model not found. Using cl100k_base encoding.\n"
     ]
    }
   ],
   "source": [
    "rag_resp = rag_chain.invoke({\"question\":\"Are there new market or regulatory challenges Apple faces?\"})"
   ]
  },
  {
   "cell_type": "code",
   "execution_count": 35,
   "metadata": {
    "scrolled": true
   },
   "outputs": [
    {
     "name": "stderr",
     "output_type": "stream",
     "text": [
      "Warning: model not found. Using cl100k_base encoding.\n"
     ]
    },
    {
     "name": "stdout",
     "output_type": "stream",
     "text": [
      "CONTEXT FROM AAPL.10K.2023.pdf\n",
      "Apple Inc. | 2023 Form 10-K | 12\n",
      "\n",
      "The Company is subject to complex and changing laws and regulations worldwide, which exposes the Company to potential liabilities, increased costs and other adverse effects on the Company’s business.\n",
      "\n",
      "The Company’s global operations are subject to complex and changing laws and regulations on subjects, including antitrust; privacy, data security and data localization; consumer protection; advertising, sales, billing and e-commerce; financial services and technology; product liability; intellectual property ownership and infringement; digital platforms; machine learning and artificial intelligence; internet, telecommunications and mobile communications; media, television, film and digital content; availability of third-party software applications and services; labor and employment; anticorruption; import, export and trade; foreign exchange controls and cash repatriation restrictions; anti–money laundering; foreign ownership and investment; tax; and environmental, health and safety, including electronic waste, recycling, product design and climate change.\n",
      "\n",
      "We expect that competition will continue to be intense due to rapid technological changes, frequent product introductions by our competitors or new competitors of products that may provide better performance/experience or that may include additional features that render our products comparatively less competitive. We may also face aggressive pricing by competitors, especially during challenging economic times. In addition, our competitors have significant marketing and sales resources which could increase the competitive environment in a declining market, leading to lower prices and margins. Some competitors may have greater access or rights to complementary technologies, including interface, processor and memory technical information. For instance, with our APU products and other competing solutions with integrated graphics, we believe that demand for additional discrete graphics chips and cards may decrease in the future due to improvements in the quality and performance of integrated graphics. If competitors introduce competitive new products into the market before us, demand for our products could be adversely impacted and our business could be adversely affected. In addition, Intel is expanding its position in integrated graphics for the PC market with high-end discrete graphics solutions for a broad range of computing segments, which may negatively impact our ability to compete in these computing segments. We also face competition from companies that use competing computing architectures and platforms like the ARM architecture. Increased adoption of ARM-based semiconductor designs could lead to further growth and development of the ARM ecosystem.\n",
      "\n",
      "\n"
     ]
    }
   ],
   "source": [
    "print(context_chain.invoke(\"Are there new market or regulatory challenges Apple faces?\"))"
   ]
  },
  {
   "cell_type": "code",
   "execution_count": 36,
   "metadata": {},
   "outputs": [
    {
     "name": "stdout",
     "output_type": "stream",
     "text": [
      "Apple faces new market and regulatory challenges due to the complex and changing laws and regulations worldwide. These challenges include antitrust, privacy, data security, consumer protection, intellectual property ownership and infringement, and environmental, health, and safety regulations. Additionally, Apple expects intense competition from rapid technological changes, frequent product introductions by competitors, aggressive pricing, and competitors with significant marketing and sales resources. The company also faces the potential impact of competitors introducing new products into the market before Apple, which could adversely affect demand for Apple's products. Furthermore, increased adoption of ARM-based semiconductor designs presents a potential challenge for Apple.\n"
     ]
    }
   ],
   "source": [
    "print(rag_resp)"
   ]
  },
  {
   "cell_type": "code",
   "execution_count": 38,
   "metadata": {},
   "outputs": [
    {
     "name": "stderr",
     "output_type": "stream",
     "text": [
      "Warning: model not found. Using cl100k_base encoding.\n",
      "Warning: model not found. Using cl100k_base encoding.\n"
     ]
    }
   ],
   "source": [
    "rag_resp = rag_chain.invoke({\"question\":\"Are there any ongoing legal disputes or regulatory issues with IBM?\"})"
   ]
  },
  {
   "cell_type": "code",
   "execution_count": 37,
   "metadata": {
    "scrolled": true
   },
   "outputs": [
    {
     "name": "stderr",
     "output_type": "stream",
     "text": [
      "Warning: model not found. Using cl100k_base encoding.\n",
      "Warning: model not found. Using cl100k_base encoding.\n"
     ]
    },
    {
     "name": "stdout",
     "output_type": "stream",
     "text": [
      "CONTEXT FROM IBM.10K.2023.pdf\n",
      "The Company Is Subject to Legal Proceedings and Investigatory Risks: As a company with a substantial employee population and with clients in more than 175 countries, IBM is or may become involved as a party and/or may be subject to a variety of claims, demands, suits, investigations, tax matters and other proceedings that arise from time to time in the ordinary course of its business. The risks associated with such legal proceedings are described in more detail in note R, “Commitments & Contingencies,” in IBM’s 2022 Annual Report to Stockholders. The company believes it has adopted appropriate risk management and compliance programs. Legal and compliance risks, however, will continue to exist and additional legal proceedings and other contingencies, the outcome of which cannot be predicted with certainty, may arise from time to time.\n",
      "\n",
      "https://www.sec.gov/Archives/edgar/data/51143/000155837023002376/ibm-20221231x10k.htm\n",
      "\n",
      "18/51\n",
      "\n",
      "1/12/24, 6:41 AM\n",
      "\n",
      "sec.gov/Archives/edgar/data/51143/000155837023002376/ibm-20221231x10k.htm\n",
      "\n",
      "8\n",
      "\n",
      "https://www.sec.gov/Archives/edgar/data/51143/000155837023002376/ibm-20221231x10k.htm\n",
      "\n",
      "19/51\n",
      "\n",
      "1/12/24, 6:41 AM\n",
      "\n",
      "sec.gov/Archives/edgar/data/51143/000155837023002376/ibm-20221231x10k.htm\n",
      "\n",
      "Table of Contents\n",
      "\n",
      "Table of Contents\n",
      "\n",
      "Reference Number per Item 601 of Regulation S- K\n",
      "\n",
      "Description of Exhibits\n",
      "\n",
      "Letter dated December 15, 2020, signed by Virginia M. Rometty and IBM was included as Exhibit 99.2 to the Form 8-K filed December 16, 2020, and is hereby incorporated by reference.*\n",
      "\n",
      "Letter Agreement, signed by Gary Cohn and IBM, dated December 24, 2020, filed as Exhibit 10.3 to Form 10-K for the year ended December 31, 2021, is hereby incorporated by reference.*\n",
      "\n",
      "Letter Agreement, signed by Gary Cohn, dated December 24, 2020, filed as Exhibit 10.4 to Form 10-K for the year ended December 31, 2021, is hereby incorporated by reference.*\n",
      "\n",
      "$2,500,000,000 Three-Year Credit Agreement, dated as of June 22, 2021, among International Business Machines Corporation, the Subsidiary Borrowers parties thereto, the several banks and other financial institutions from time to time parties to such agreement, JPMorgan Chase Bank, N.A., as Administrative Agent, BNP Paribas, Citibank N.A. and Royal Bank of Canada, as Syndication Agents, and the Documentation Agents named therein, filed as Exhibit 10.1 to Form 8-K, filed June 25, 2021, is hereby incorporated by reference.\n",
      "\n",
      "Amendment No. 1 to Three-Year Credit Agreement dated as of June 30, 2022, among International Business Machines Corporation, the several banks and other financial institutions from time to time parties to such agreement and JPMorgan Chase Bank, N.A., as Administrative Agent, filed as Exhibit 10.1 to Form 8-K, filed July 1, 2022, is hereby incorporated by reference.\n",
      "\n",
      "CONTEXT FROM IBM.10K.2023.pdf\n",
      "The Company Is Subject to Legal Proceedings and Investigatory Risks: As a company with a substantial employee population and with clients in more than 175 countries, IBM is or may become involved as a party and/or may be subject to a variety of claims, demands, suits, investigations, tax matters and other proceedings that arise from time to time in the ordinary course of its business. The risks associated with such legal proceedings are described in more detail in note R, “Commitments & Contingencies,” in IBM’s 2022 Annual Report to Stockholders. The company believes it has adopted appropriate risk management and compliance programs. Legal and compliance risks, however, will continue to exist and additional legal proceedings and other contingencies, the outcome of which cannot be predicted with certainty, may arise from time to time.\n",
      "\n",
      "https://www.sec.gov/Archives/edgar/data/51143/000155837023002376/ibm-20221231x10k.htm\n",
      "\n",
      "18/51\n",
      "\n",
      "1/12/24, 6:41 AM\n",
      "\n",
      "sec.gov/Archives/edgar/data/51143/000155837023002376/ibm-20221231x10k.htm\n",
      "\n",
      "8\n",
      "\n",
      "https://www.sec.gov/Archives/edgar/data/51143/000155837023002376/ibm-20221231x10k.htm\n",
      "\n",
      "19/51\n",
      "\n",
      "1/12/24, 6:41 AM\n",
      "\n",
      "sec.gov/Archives/edgar/data/51143/000155837023002376/ibm-20221231x10k.htm\n",
      "\n",
      "Table of Contents\n",
      "\n",
      "— $2,007,611,768\n",
      "\n",
      "— $2,007,611,768\n",
      "\n",
      "— $2,007,611,768\n",
      "\n",
      "common stock repurchase program. The company stated that it would repurchase shares on the open market or in private transactions depending on market conditions. The common stock repurchase program does not have an expiration date. This table does not include shares tendered to satisfy the exercise price in connection with cashless exercises of employee stock options or shares tendered to satisfy tax withholding obligations in connection with employee equity awards.\n",
      "\n",
      "The company suspended its share repurchase program at the time of the Red Hat acquisition in 2019. At December 31, 2022 there was approximately $2.0 billion in authorized funds remaining for purchases under this program.\n",
      "\n",
      "Item 6. [Reserved]\n",
      "\n",
      "Item 7. Management’s Discussion and Analysis of Financial Condition and Results of Operations:\n",
      "\n",
      "Refer to pages 6 through 42 of IBM’s 2022 Annual Report to Stockholders, which are incorporated herein by reference.\n",
      "\n",
      "Item 7A. Quantitative and Qualitative Disclosures About Market Risk:\n",
      "\n",
      "Refer to the section titled “Market Risk” on pages 39 and 40 of IBM’s 2022 Annual Report to Stockholders, which is incorporated herein by reference.\n",
      "\n",
      "11\n",
      "\n",
      "https://www.sec.gov/Archives/edgar/data/51143/000155837023002376/ibm-20221231x10k.htm\n",
      "\n",
      "24/51\n",
      "\n",
      "1/12/24, 6:41 AM\n",
      "\n",
      "sec.gov/Archives/edgar/data/51143/000155837023002376/ibm-20221231x10k.htm\n",
      "\n",
      "https://www.sec.gov/Archives/edgar/data/51143/000155837023002376/ibm-20221231x10k.htm\n",
      "\n",
      "25/51\n",
      "\n",
      "1/12/24, 6:41 AM\n",
      "\n",
      "sec.gov/Archives/edgar/data/51143/000155837023002376/ibm-20221231x10k.htm\n",
      "\n",
      "Table of Contents\n",
      "\n",
      "\n"
     ]
    }
   ],
   "source": [
    "print(context_chain.invoke(\"Are there any ongoing legal disputes or regulatory issues with IBM?\"))"
   ]
  },
  {
   "cell_type": "code",
   "execution_count": 39,
   "metadata": {},
   "outputs": [
    {
     "name": "stdout",
     "output_type": "stream",
     "text": [
      "Yes, IBM is subject to legal proceedings and investigatory risks, as it may become involved in claims, demands, suits, investigations, tax matters, and other proceedings that arise in the ordinary course of its business. The company believes it has adopted appropriate risk management and compliance programs, but legal and compliance risks will continue to exist, and additional legal proceedings and other contingencies may arise from time to time.\n"
     ]
    }
   ],
   "source": [
    "print(rag_resp)"
   ]
  },
  {
   "cell_type": "code",
   "execution_count": null,
   "metadata": {},
   "outputs": [],
   "source": []
  }
 ],
 "metadata": {
  "kernelspec": {
   "display_name": "Python 3 (ipykernel)",
   "language": "python",
   "name": "python3"
  },
  "language_info": {
   "codemirror_mode": {
    "name": "ipython",
    "version": 3
   },
   "file_extension": ".py",
   "mimetype": "text/x-python",
   "name": "python",
   "nbconvert_exporter": "python",
   "pygments_lexer": "ipython3",
   "version": "3.11.7"
  }
 },
 "nbformat": 4,
 "nbformat_minor": 4
}

{
 "cells": [
  {
   "cell_type": "code",
   "execution_count": 1,
   "id": "ef98d63a-3001-4472-8ee1-fd275fb72516",
   "metadata": {},
   "outputs": [],
   "source": [
    "from unstructured.partition.pdf import partition_pdf\n",
    "from pydantic import BaseModel\n",
    "from typing import Any\n",
    "\n",
    "from langchain_openai import ChatOpenAI, OpenAIEmbeddings\n",
    "from langchain.retrievers import MultiVectorRetriever\n",
    "from langchain.storage import InMemoryStore\n",
    "from langchain_community.vectorstores.elasticsearch import ElasticsearchStore\n",
    "from langchain_core.prompts import ChatPromptTemplate\n",
    "from langchain_core.output_parsers import StrOutputParser\n",
    "from langchain_core.runnables import (\n",
    "  RunnableLambda,\n",
    "  RunnablePassthrough\n",
    ")\n",
    "from langchain_core.documents import Document\n",
    "from langchain.output_parsers import JsonOutputToolsParser\n",
    "\n",
    "import uuid\n",
    "from typing import Union\n",
    "from operator import itemgetter\n",
    "import pickle\n",
    "from itertools import chain"
   ]
  },
  {
   "cell_type": "code",
   "execution_count": 2,
   "id": "1f18fda2-5173-4c22-9496-bd2ddd7fa4fc",
   "metadata": {},
   "outputs": [],
   "source": [
    "import os\n",
    "from dotenv import load_dotenv\n",
    "\n",
    "load_dotenv()\n",
    "OPENAI_API_KEY = os.getenv('OPENAI_API_KEY')"
   ]
  },
  {
   "cell_type": "code",
   "execution_count": 3,
   "id": "4c652562-e139-448a-a5c8-8d19726d115b",
   "metadata": {},
   "outputs": [],
   "source": [
    "pdf_paths = [\"./AMD.10K.2023.pdf\", \"./IBM.10K.2023.pdf\", \"./AAPL.10K.2023.pdf\"]\n",
    "pdfs = [\"AMD.10K.2023.pdf\", \"IBM.10K.2023.pdf\", \"AAPL.10K.2023.pdf\"]"
   ]
  },
  {
   "cell_type": "code",
   "execution_count": 4,
   "id": "f7ddd980-f5f1-45a5-89ef-178e5156087b",
   "metadata": {},
   "outputs": [],
   "source": [
    "# !! Think twice before running this cell, because you have pickled the required elements + running out of api calls !!\n",
    "# raw_pdfs_elements = []\n",
    "# for i,pdf_path in enumerate(pdf_paths):\n",
    "#   raw_pdfs_elements.append(\n",
    "#     partition_pdf(\n",
    "#       filename=pdf_path,\n",
    "#       extract_images_in_pdf=False,\n",
    "#       infer_table_structure=True,\n",
    "#       chunking_strategy=\"by_title\",\n",
    "#       max_characters=1800,\n",
    "#       new_after_n_chars=1500,\n",
    "#       combine_text_under_n_chars=1000,\n",
    "#       image_output_dir_path=\"./\",\n",
    "#       url=<your_api_base_url>,\n",
    "#       token=<your_api_key>,\n",
    "#     )\n",
    "#   )\n",
    "  \n",
    "#   with open(f'{pdf_path}-{i}.pkl', 'wb') as f:\n",
    "#     pickle.dump(raw_pdfs_elements[i], f)\n"
   ]
  },
  {
   "cell_type": "code",
   "execution_count": 5,
   "id": "42b45c5f-80c4-4eed-a38e-92fe33a37082",
   "metadata": {},
   "outputs": [],
   "source": [
    "raw_pdf_elements = []\n",
    "pickle_paths = [\"./AMD.10K.2023.pdf-0.pkl\", \"./IBM.10K.2023.pdf-2.pkl\", \"./AAPL.10K.2023.pdf-4.pkl\"]\n",
    "for pdf in pickle_paths:\n",
    "    with open(f\"{pdf}\", 'rb') as f:\n",
    "        raw_pdf_elements.append(pickle.load(f))"
   ]
  },
  {
   "cell_type": "code",
   "execution_count": 6,
   "id": "0824b9d1-ae8f-47b5-b61c-f9126a0746b2",
   "metadata": {},
   "outputs": [],
   "source": [
    "class Element(BaseModel):\n",
    "    type: str\n",
    "    text: Any\n",
    "\n",
    "\n",
    "# Categorize by type\n",
    "categorized_elements = [\n",
    "    [\n",
    "        Element(type=\"table\", text=str(element.metadata.text_as_html))\n",
    "        if \"unstructured.documents.elements.Table\" in str(type(element))\n",
    "        else Element(type=\"text\", text=str(element))\n",
    "        for element in raw_pdf_element\n",
    "    ]\n",
    "    for raw_pdf_element in raw_pdf_elements\n",
    "]"
   ]
  },
  {
   "cell_type": "code",
   "execution_count": 7,
   "id": "7f387a64-3ee1-4f53-88c1-9f1ac8925591",
   "metadata": {},
   "outputs": [],
   "source": [
    "table_elements = [ [e for e in categorized_element if e.type == \"table\"] for categorized_element in categorized_elements ]\n",
    "text_elements = [ [e for e in categorized_element if e.type == \"text\"] for categorized_element in categorized_elements ]"
   ]
  },
  {
   "cell_type": "code",
   "execution_count": 8,
   "id": "39f8ea64-53e0-4cb4-b983-73c0d3018588",
   "metadata": {},
   "outputs": [],
   "source": [
    "def get_docs(text_ele):\n",
    "    pdf_docs = []\n",
    "    pdf_docs.extend(\n",
    "        [Document(page_content=ele.text, metadata={\"pdf_title\":t[1]}) for ele in t[0]] for i,t in enumerate(zip(text_ele,pdfs))\n",
    "    )\n",
    "    pdf_docs = list(chain(*pdf_docs))\n",
    "    return pdf_docs"
   ]
  },
  {
   "cell_type": "code",
   "execution_count": 9,
   "id": "7eab0ac9-31c4-4870-a623-67ac56dd57c4",
   "metadata": {},
   "outputs": [],
   "source": [
    "table_docs = get_docs(table_elements)\n",
    "text_docs = get_docs(text_elements)"
   ]
  },
  {
   "cell_type": "code",
   "execution_count": 10,
   "id": "f4d5303b-4c5f-4a32-a17a-08f94dddd70c",
   "metadata": {},
   "outputs": [
    {
     "data": {
      "text/plain": [
       "626"
      ]
     },
     "execution_count": 10,
     "metadata": {},
     "output_type": "execute_result"
    }
   ],
   "source": [
    "len(text_docs)"
   ]
  },
  {
   "cell_type": "code",
   "execution_count": 11,
   "id": "9f387b20-2c2f-4ac1-8db3-e57cfb2baa9c",
   "metadata": {},
   "outputs": [],
   "source": [
    "# tables = [table.page_content for table in table_docs]\n",
    "# table_summaries = table_summarize_chain.batch(texts, {\"max_concurrency\": 5})\n",
    "# with open(\"table_summaries.pkl\", 'wb') as f:\n",
    "#     pickle.dump(table_summaries, f)"
   ]
  },
  {
   "cell_type": "code",
   "execution_count": 12,
   "id": "21213bee-ba5e-48fe-b82b-4f4ec4a61e5e",
   "metadata": {},
   "outputs": [],
   "source": [
    "# texts = [text.page_content for text in text_docs]\n",
    "# text_summaries = text_summarize_chain.batch(texts, {\"max_concurrency\": 5})\n",
    "# with open(\"text_summaries-3.pkl\", 'wb') as f:\n",
    "#   pickle.dump(text_summaries, f))"
   ]
  },
  {
   "cell_type": "code",
   "execution_count": 13,
   "id": "77a6e2b7-d0eb-4c02-8c71-5d6e8c36c9bd",
   "metadata": {},
   "outputs": [],
   "source": [
    "with open(\"./table_summaries-3.pkl\", 'rb') as f:\n",
    "    table_summaries = pickle.load(f)\n",
    "\n",
    "with open(\"./text_summaries.pkl\", 'rb') as f:\n",
    "    text_summaries = pickle.load(f)"
   ]
  },
  {
   "cell_type": "code",
   "execution_count": 14,
   "id": "3fb20ede-cf8f-45ab-863b-cbec85819684",
   "metadata": {},
   "outputs": [],
   "source": [
    "text_ids = [str(uuid.uuid4()) for _ in text_docs]\n",
    "table_ids = [str(uuid.uuid4()) for _ in table_docs]\n",
    "\n",
    "id_key = \"doc_id\"\n",
    "\n",
    "text_summaries_docs = [\n",
    "  Document(page_content=text_summaries[i], metadata={id_key:text_ids[i], \"pdf_title\":text_doc.metadata['pdf_title']})\n",
    "  for i,text_doc in enumerate(text_docs)\n",
    "]\n",
    "table_summaries_docs = [\n",
    "  Document(page_content=table_summaries[i], metadata={id_key:table_ids[i], \"pdf_title\":table_doc.metadata['pdf_title']})\n",
    "  for i,table_doc in enumerate(table_docs)\n",
    "]"
   ]
  },
  {
   "cell_type": "code",
   "execution_count": 15,
   "id": "2b37553a-bba3-4f9a-b9ed-6e6902630373",
   "metadata": {},
   "outputs": [
    {
     "name": "stderr",
     "output_type": "stream",
     "text": [
      "Warning: model not found. Using cl100k_base encoding.\n",
      "Warning: model not found. Using cl100k_base encoding.\n"
     ]
    }
   ],
   "source": [
    "vectorstore = ElasticsearchStore(\n",
    "    embedding=OpenAIEmbeddings(model=\"text-embedding-3-small\"),\n",
    "    es_url=\"http://localhost:9200\",\n",
    "    index_name=\"summaries_index\",\n",
    "    strategy=ElasticsearchStore.ApproxRetrievalStrategy()\n",
    ")\n",
    "\n",
    "vectorstore.add_documents(text_summaries_docs);\n",
    "vectorstore.add_documents(table_summaries_docs);"
   ]
  },
  {
   "cell_type": "code",
   "execution_count": 16,
   "id": "c8faccb7-28a7-491f-bb00-1568d1dee8d7",
   "metadata": {},
   "outputs": [],
   "source": [
    "docs_w_ids = list(zip(text_ids+table_ids,text_docs+table_docs))"
   ]
  },
  {
   "cell_type": "code",
   "execution_count": 17,
   "id": "20464090-f4df-41a4-8fbf-c843bb24108d",
   "metadata": {},
   "outputs": [
    {
     "name": "stderr",
     "output_type": "stream",
     "text": [
      "Warning: model not found. Using cl100k_base encoding.\n"
     ]
    },
    {
     "data": {
      "text/plain": [
       "[Document(page_content='In 2023, Apple Inc. saw a significant increase in R&D expenses due to higher headcount-related costs, while selling, general, and administrative expenses remained relatively unchanged. The provision for income taxes and effective tax rates for 2023, 2022, and 2021 are also detailed in the report.', metadata={'doc_id': 'e920174a-bea0-4485-bffb-05858c3d8e0d', 'pdf_title': 'AAPL.10K.2023.pdf'}),\n",
       " Document(page_content='In 2023, Apple Inc. saw a significant increase in R&D expenses due to higher headcount-related costs, while selling, general, and administrative expenses remained relatively unchanged. The provision for income taxes and effective tax rates for 2023, 2022, and 2021 are also detailed in the report.', metadata={'doc_id': 'a2ce90ec-225f-4081-927e-fdf5e2955096', 'pdf_title': 'AAPL.10K.2023.pdf'})]"
      ]
     },
     "execution_count": 17,
     "metadata": {},
     "output_type": "execute_result"
    }
   ],
   "source": [
    "vectorstore.similarity_search(\"How much is Apple investing in R&D?\", k=2, filter=[{\"term\": {\"metadata.pdf_title.keyword\": \"AAPL.10K.2023.pdf\"}}])"
   ]
  },
  {
   "cell_type": "code",
   "execution_count": 18,
   "id": "074e90ef-8796-48e0-b8e7-c6ef6360bbca",
   "metadata": {},
   "outputs": [],
   "source": [
    "def get_orig(summary_docs):\n",
    "    out_docs = [docs[1] for summary_doc in summary_docs for docs in docs_w_ids if docs[0]==summary_doc.metadata[id_key]]\n",
    "    return out_docs"
   ]
  },
  {
   "cell_type": "code",
   "execution_count": 19,
   "id": "96b9453c-81dd-452c-ab8c-737a417673da",
   "metadata": {},
   "outputs": [
    {
     "name": "stderr",
     "output_type": "stream",
     "text": [
      "Warning: model not found. Using cl100k_base encoding.\n"
     ]
    },
    {
     "data": {
      "text/plain": [
       "[Document(page_content='Research and Development\\n\\nThe year-over-year growth in R&D expense in 2023 was driven primarily by increases in headcount-related expenses.\\n\\nSelling, General and Administrative\\n\\nSelling, general and administrative expense was relatively flat in 2023 compared to 2022.\\n\\nApple Inc. | 2023 Form 10-K | 23\\n\\nProvision for Income Taxes\\n\\nProvision for income taxes, effective tax rate and statutory federal income tax rate for 2023, 2022 and 2021 were as follows (dollars in millions):', metadata={'pdf_title': 'AAPL.10K.2023.pdf'})]"
      ]
     },
     "execution_count": 19,
     "metadata": {},
     "output_type": "execute_result"
    }
   ],
   "source": [
    "get_orig(vectorstore.similarity_search(\"How much is Apple investing in R&D?\", k=2, filter=[{\"term\": {\"metadata.pdf_title.keyword\": \"AAPL.10K.2023.pdf\"}}]))"
   ]
  },
  {
   "cell_type": "code",
   "execution_count": 20,
   "id": "4893d556-19d1-48e3-a641-7c434cf9726b",
   "metadata": {},
   "outputs": [],
   "source": [
    "model = ChatOpenAI(temperature=0, model=\"gpt-3.5-turbo-1106\")\n",
    "\n",
    "get_pdf_query = \"\"\"You are an assistant tasked with generating additional questions from the given query. \\\n",
    "Given a set of questions, give the relevant questions (in the format as shown) pertaining to each individual company \\\n",
    "in the query IF there are more than one. Also give the report name it corresponds to.\n",
    "Report names:\n",
    "AMD.10K.2023.pdf\n",
    "AAPL.10K.2023.pdf\n",
    "IBM.10K.2023.pdf\n",
    "CSCO.10K.2023.pdf\n",
    "UBER.10K.2023.pdf\n",
    "\n",
    "<--example start-->\n",
    "Query: What are the equity compensation plans of AMD and Cisco?\n",
    "Answer:\n",
    "What are the equity compensation plans of AMD?, AMD.10K.2023.pdf\n",
    "What are the equity compensation plans of Cisco?, CSCO.10K.2023.pdf\n",
    "<--example end-->\n",
    "\n",
    "<--example start-->\n",
    "Are there any ongoing legal disputes with Uber?\n",
    "Answer:\n",
    "Are there any ongoing legal disputes with Uber?, UBER.10K.2023.pdf\n",
    "<--example end-->\n",
    "\n",
    "Query: {user_query}\n",
    "Answer:\n",
    "\"\"\"\n",
    "get_pdf_query_prompt = ChatPromptTemplate.from_template(get_pdf_query)\n",
    "get_pdf_query_chain = {\"user_query\": RunnablePassthrough()} | get_pdf_query_prompt | model | StrOutputParser()"
   ]
  },
  {
   "cell_type": "code",
   "execution_count": 21,
   "id": "01e262af-8e79-4d3d-9733-2f1bbdf51090",
   "metadata": {},
   "outputs": [],
   "source": [
    "pdf_resp = get_pdf_query_chain.invoke(\"How much are apple and AMD investing in R&D?\")"
   ]
  },
  {
   "cell_type": "code",
   "execution_count": 22,
   "id": "94022e61-0ecb-47e2-ac14-eb7a50633f25",
   "metadata": {},
   "outputs": [
    {
     "data": {
      "text/plain": [
       "'How much is Apple investing in R&D?, AAPL.10K.2023.pdf\\nHow much is AMD investing in R&D?, AMD.10K.2023.pdf'"
      ]
     },
     "execution_count": 22,
     "metadata": {},
     "output_type": "execute_result"
    }
   ],
   "source": [
    "pdf_resp"
   ]
  },
  {
   "cell_type": "code",
   "execution_count": 23,
   "id": "d7e3cf8f-365c-41d5-83d9-9a1fe162fd74",
   "metadata": {},
   "outputs": [],
   "source": [
    "pdf_resp2 = get_pdf_query_chain.invoke(\"How much is AMD investing in R&D?\")"
   ]
  },
  {
   "cell_type": "code",
   "execution_count": 24,
   "id": "a4c964ec-2b16-4ab4-859a-8ffc4a334555",
   "metadata": {},
   "outputs": [
    {
     "name": "stdout",
     "output_type": "stream",
     "text": [
      "['How much is AMD investing in R&D?', ' AMD.10K.2023.pdf']\n"
     ]
    }
   ],
   "source": [
    "for p in pdf_resp2.split('\\n'):\n",
    "    print(p.split(','))"
   ]
  },
  {
   "cell_type": "code",
   "execution_count": 25,
   "id": "92ae4077-4a1b-4246-92a8-5fb5c93afd91",
   "metadata": {},
   "outputs": [
    {
     "data": {
      "text/plain": [
       "'AAPL.10K.2023.pdf'"
      ]
     },
     "execution_count": 25,
     "metadata": {},
     "output_type": "execute_result"
    }
   ],
   "source": [
    "pdf_resp.split('\\n')[0].split(',')[1].strip()"
   ]
  },
  {
   "cell_type": "code",
   "execution_count": 26,
   "id": "de6a2741-e9bd-45a3-92e2-9910c6d44e2b",
   "metadata": {},
   "outputs": [],
   "source": [
    "def get_context(pdf_response):\n",
    "    context_out = []\n",
    "    for resp in pdf_response.split('\\n'):\n",
    "        context_out.append(\n",
    "            get_orig(\n",
    "                vectorstore.similarity_search(resp.split(',')[0], k=3, filter=[{\"term\": {\"metadata.pdf_title.keyword\": resp.split(',')[1].strip()}}])\n",
    "            )\n",
    "        )\n",
    "\n",
    "    return context_out"
   ]
  },
  {
   "cell_type": "code",
   "execution_count": 27,
   "id": "e0ac6b3f-d51e-40f7-9d09-cc5efe9d750a",
   "metadata": {},
   "outputs": [
    {
     "name": "stderr",
     "output_type": "stream",
     "text": [
      "Warning: model not found. Using cl100k_base encoding.\n",
      "Warning: model not found. Using cl100k_base encoding.\n"
     ]
    }
   ],
   "source": [
    "context_resp = get_context(get_pdf_query_chain.invoke(\"How much is apple and AMD investing in R&D?\"))"
   ]
  },
  {
   "cell_type": "code",
   "execution_count": 28,
   "id": "90dc18a5-86ea-4ac2-9544-e990ea096b91",
   "metadata": {
    "scrolled": true
   },
   "outputs": [
    {
     "data": {
      "text/plain": [
       "[[Document(page_content='Research and Development\\n\\nThe year-over-year growth in R&D expense in 2023 was driven primarily by increases in headcount-related expenses.\\n\\nSelling, General and Administrative\\n\\nSelling, general and administrative expense was relatively flat in 2023 compared to 2022.\\n\\nApple Inc. | 2023 Form 10-K | 23\\n\\nProvision for Income Taxes\\n\\nProvision for income taxes, effective tax rate and statutory federal income tax rate for 2023, 2022 and 2021 were as follows (dollars in millions):', metadata={'pdf_title': 'AAPL.10K.2023.pdf'})],\n",
       " [Document(page_content='During the twelve months ended December 31, 2022, we returned a total of $3.7 billion to shareholders through the repurchase of 36.3 million shares of common stock under our stock repurchase program. As of December 31, 2022, $6.5 billion remained available for future stock repurchases under this program. The repurchase program does not obligate us to acquire any common stock, has no termination date and may be suspended or discontinued at any time.\\n\\nWe continued executing our product technology roadmap by delivering a number of new leadership products and technologies during 2022. For Data Center, we launched our 4th Gen AMD EPYC™ processors with next-generation architecture, technology and features, and designed to deliver optimizations across market segments and applications, while helping businesses free data center resources to create additional workload processing and accelerate output. We also unveiled our 3rd Gen AMD EPYC processors with AMD 3D V-Cache technology for leadership performance in technical computing workloads. We introduced the 7 nm Versal™ ACAP VCK5000 development card designed to offer leadership AI inference performance. We announced the availability of the AMD Instinct™ ecosystem, the new AMD Instinct MI210 accelerator and ROCm™ 5 software. Together the AMD Instinct and ROCm ecosystem offers exascale-class technology to a broad base of high performance computing (HPC) and artificial intelligence (AI) customers, designed to address the demand for compute-accelerated data center workloads and reduce the time to insights and discoveries.', metadata={'pdf_title': 'AMD.10K.2023.pdf'})]]"
      ]
     },
     "execution_count": 28,
     "metadata": {},
     "output_type": "execute_result"
    }
   ],
   "source": [
    "context_resp"
   ]
  },
  {
   "cell_type": "code",
   "execution_count": 29,
   "id": "e742a003-4554-4d5f-a081-d96b9fe875f0",
   "metadata": {},
   "outputs": [],
   "source": [
    "def parse_context(contexts):\n",
    "    contexts = list(chain(*contexts))\n",
    "    str_out = \"\"\n",
    "    for context in contexts:\n",
    "        str_out += \"CONTEXT FROM \" + context.metadata['pdf_title'] + \"\\n\"\n",
    "        str_out += context.page_content + \"\\n\\n\"\n",
    "\n",
    "    return str_out"
   ]
  },
  {
   "cell_type": "code",
   "execution_count": 30,
   "id": "5fe48ce6-92df-456c-adc8-a74afe7d44f5",
   "metadata": {},
   "outputs": [],
   "source": [
    "context_chain = get_pdf_query_chain | get_context | parse_context"
   ]
  },
  {
   "cell_type": "code",
   "execution_count": 31,
   "id": "84180728-264b-4691-b743-e552196e7301",
   "metadata": {},
   "outputs": [
    {
     "name": "stderr",
     "output_type": "stream",
     "text": [
      "Warning: model not found. Using cl100k_base encoding.\n",
      "Warning: model not found. Using cl100k_base encoding.\n"
     ]
    }
   ],
   "source": [
    "ctx_chain_resp = context_chain.invoke(\"How much is apple and AMD investing in R&D?\")"
   ]
  },
  {
   "cell_type": "code",
   "execution_count": 32,
   "id": "951e8ee7-95c5-49d6-96c4-312e3c30424c",
   "metadata": {
    "scrolled": true
   },
   "outputs": [
    {
     "name": "stdout",
     "output_type": "stream",
     "text": [
      "CONTEXT FROM AAPL.10K.2023.pdf\n",
      "Research and Development\n",
      "\n",
      "The year-over-year growth in R&D expense in 2023 was driven primarily by increases in headcount-related expenses.\n",
      "\n",
      "Selling, General and Administrative\n",
      "\n",
      "Selling, general and administrative expense was relatively flat in 2023 compared to 2022.\n",
      "\n",
      "Apple Inc. | 2023 Form 10-K | 23\n",
      "\n",
      "Provision for Income Taxes\n",
      "\n",
      "Provision for income taxes, effective tax rate and statutory federal income tax rate for 2023, 2022 and 2021 were as follows (dollars in millions):\n",
      "\n",
      "CONTEXT FROM AMD.10K.2023.pdf\n",
      "During the twelve months ended December 31, 2022, we returned a total of $3.7 billion to shareholders through the repurchase of 36.3 million shares of common stock under our stock repurchase program. As of December 31, 2022, $6.5 billion remained available for future stock repurchases under this program. The repurchase program does not obligate us to acquire any common stock, has no termination date and may be suspended or discontinued at any time.\n",
      "\n",
      "We continued executing our product technology roadmap by delivering a number of new leadership products and technologies during 2022. For Data Center, we launched our 4th Gen AMD EPYC™ processors with next-generation architecture, technology and features, and designed to deliver optimizations across market segments and applications, while helping businesses free data center resources to create additional workload processing and accelerate output. We also unveiled our 3rd Gen AMD EPYC processors with AMD 3D V-Cache technology for leadership performance in technical computing workloads. We introduced the 7 nm Versal™ ACAP VCK5000 development card designed to offer leadership AI inference performance. We announced the availability of the AMD Instinct™ ecosystem, the new AMD Instinct MI210 accelerator and ROCm™ 5 software. Together the AMD Instinct and ROCm ecosystem offers exascale-class technology to a broad base of high performance computing (HPC) and artificial intelligence (AI) customers, designed to address the demand for compute-accelerated data center workloads and reduce the time to insights and discoveries.\n",
      "\n",
      "\n"
     ]
    }
   ],
   "source": [
    "print(ctx_chain_resp)"
   ]
  },
  {
   "cell_type": "code",
   "execution_count": 33,
   "id": "1854b744-fbcf-402d-9f4b-aaaeb1c35121",
   "metadata": {},
   "outputs": [],
   "source": [
    "rag_prompt_text = \"\"\"You are an assistant for question-answering tasks. Use the following pieces of retrieved context to answer the question \\\n",
    "in as many words as required.\n",
    "Feel free to go into the details of what's presented in the context down below.\n",
    "If you don't know the answer, just say \"I don't know.\"\n",
    "Question: {question}\n",
    "Context: {context}\n",
    "Answer: \n",
    "\"\"\"\n",
    "\n",
    "rag_prompt = ChatPromptTemplate.from_template(rag_prompt_text)\n",
    "\n",
    "rag_chain = (\n",
    "  {\"question\": RunnablePassthrough(), \"context\": context_chain}\n",
    "  | rag_prompt\n",
    "  | model\n",
    "  | StrOutputParser()\n",
    ")"
   ]
  },
  {
   "cell_type": "code",
   "execution_count": 34,
   "id": "049d028a-b30a-4281-a8fb-4d7194f73ea0",
   "metadata": {},
   "outputs": [
    {
     "name": "stdout",
     "output_type": "stream",
     "text": [
      "You are an assistant for question-answering tasks. Use the following pieces of retrieved context to answer the question in as many words as required.\n",
      "Feel free to go into the details of what's presented in the context down below.\n",
      "If you don't know the answer, just say \"I don't know.\"\n",
      "Question: {question}\n",
      "Context: {context}\n",
      "Answer: \n",
      "\n"
     ]
    }
   ],
   "source": [
    "print(rag_prompt_text)"
   ]
  },
  {
   "cell_type": "code",
   "execution_count": 35,
   "id": "9efd465a-7def-44f0-b1c7-2ddf27df6812",
   "metadata": {},
   "outputs": [
    {
     "name": "stderr",
     "output_type": "stream",
     "text": [
      "Warning: model not found. Using cl100k_base encoding.\n"
     ]
    }
   ],
   "source": [
    "rag_resp = rag_chain.invoke({\"question\":\"What is apple's approach to sustainability and environmental impact?\"})"
   ]
  },
  {
   "cell_type": "code",
   "execution_count": 36,
   "id": "ade35908-699c-4951-8b66-2358ecf80f52",
   "metadata": {},
   "outputs": [
    {
     "data": {
      "text/plain": [
       "\"Apple's approach to sustainability and environmental impact is addressed through compliance with complex and changing laws and regulations worldwide. This includes adherence to environmental, health, and safety regulations, as well as addressing electronic waste, recycling, product design, and climate change. The company's global operations are subject to a wide range of laws and regulations related to environmental impact, and it is committed to meeting these requirements to minimize its environmental footprint.\""
      ]
     },
     "execution_count": 36,
     "metadata": {},
     "output_type": "execute_result"
    }
   ],
   "source": [
    "rag_resp"
   ]
  },
  {
   "cell_type": "code",
   "execution_count": 37,
   "id": "95923eda-68cc-41f9-9edf-eb00b428bab9",
   "metadata": {},
   "outputs": [
    {
     "name": "stderr",
     "output_type": "stream",
     "text": [
      "Warning: model not found. Using cl100k_base encoding.\n"
     ]
    }
   ],
   "source": [
    "rag_resp = rag_chain.invoke({\"question\":\"What is IBM's approach to sustainability and environmental impact?\"})"
   ]
  },
  {
   "cell_type": "code",
   "execution_count": 38,
   "id": "20e8bcc8-23cd-4053-be9f-43b621cfad77",
   "metadata": {},
   "outputs": [
    {
     "data": {
      "text/plain": [
       "\"IBM's approach to sustainability and environmental impact is not explicitly mentioned in the provided context. The document primarily focuses on the company's brand reputation, revenue growth, market share gains, and potential factors that could impact its business operations. Therefore, the specific details of IBM's approach to sustainability and environmental impact are not addressed in the given context.\""
      ]
     },
     "execution_count": 38,
     "metadata": {},
     "output_type": "execute_result"
    }
   ],
   "source": [
    "rag_resp"
   ]
  },
  {
   "cell_type": "code",
   "execution_count": 44,
   "id": "8a412433-a560-43d1-9ba2-f09b929477d9",
   "metadata": {},
   "outputs": [
    {
     "name": "stderr",
     "output_type": "stream",
     "text": [
      "Warning: model not found. Using cl100k_base encoding.\n"
     ]
    }
   ],
   "source": [
    "rag_resp = rag_chain.invoke({\"question\":\"Who are IBM’s main competitors?\"})"
   ]
  },
  {
   "cell_type": "code",
   "execution_count": 45,
   "id": "a522a419-de91-488b-86b6-ab1ecd8a8de4",
   "metadata": {},
   "outputs": [
    {
     "name": "stdout",
     "output_type": "stream",
     "text": [
      "IBM's main competitors vary by industry segment and range from large multinational enterprises to smaller, more narrowly focused entities. In the software segment, IBM's principal competitors include Alphabet (Google), Amazon, BMC, Broadcom, Cisco Systems, Informatica, Microsoft, Oracle, Palo Alto Networks, Salesforce, SAP, Splunk, and VMware. Additionally, IBM competes with smaller, niche competitors in specific geographic regions or product segments.\n"
     ]
    }
   ],
   "source": [
    "print(rag_resp)"
   ]
  },
  {
   "cell_type": "code",
   "execution_count": 49,
   "id": "46bcc1b5-e923-4d5f-980c-0deb45e074f1",
   "metadata": {},
   "outputs": [
    {
     "name": "stderr",
     "output_type": "stream",
     "text": [
      "Warning: model not found. Using cl100k_base encoding.\n"
     ]
    },
    {
     "name": "stdout",
     "output_type": "stream",
     "text": [
      "AMD’s guidance or outlook for future performance is based on current expectations and beliefs, and involves numerous risks and uncertainties that could cause actual results to differ materially from expectations. The forward-looking statements relate to factors such as demand for AMD’s products, the growth and competitive landscape of the markets, international sales, and the sufficiency of AMD’s cash, cash equivalents, and short-term investment balances to fund operations over the next 12 months and beyond. However, it is important to note that these forward-looking statements should not be relied upon as predictions of future events, as there are no assurances that the events or circumstances reflected in these statements will be achieved or will occur.\n"
     ]
    }
   ],
   "source": [
    "rag_resp = rag_chain.invoke({\"question\":\"What is AMD’s guidance or outlook for future performance?\"})\n",
    "print(rag_resp)"
   ]
  },
  {
   "cell_type": "code",
   "execution_count": null,
   "id": "991ce54c-6a9a-4a15-b4df-72eb4d5b930a",
   "metadata": {},
   "outputs": [],
   "source": []
  },
  {
   "cell_type": "code",
   "execution_count": null,
   "id": "17b4ce38-b639-4735-baca-765cc88a1591",
   "metadata": {},
   "outputs": [],
   "source": []
  },
  {
   "cell_type": "code",
   "execution_count": null,
   "id": "e35ec810-90fd-42fa-ae34-f318eedfeaad",
   "metadata": {},
   "outputs": [],
   "source": []
  }
 ],
 "metadata": {
  "kernelspec": {
   "display_name": "Python 3 (ipykernel)",
   "language": "python",
   "name": "python3"
  },
  "language_info": {
   "codemirror_mode": {
    "name": "ipython",
    "version": 3
   },
   "file_extension": ".py",
   "mimetype": "text/x-python",
   "name": "python",
   "nbconvert_exporter": "python",
   "pygments_lexer": "ipython3",
   "version": "3.11.7"
  }
 },
 "nbformat": 4,
 "nbformat_minor": 5
}
